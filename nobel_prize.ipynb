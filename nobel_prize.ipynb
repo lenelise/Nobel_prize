{
 "cells": [
  {
   "cell_type": "markdown",
   "metadata": {},
   "source": [
    "## Exploring nobel prize laureates\n",
    "\n",
    "In this notebook we use a dataset over all Nobel prize laurates from it's start in 1901 until today. We will try to explore many perspectives through this dataset, using the exercises and challenges from DataCamp and Udemy as a starting point. "
   ]
  },
  {
   "cell_type": "markdown",
   "metadata": {},
   "source": [
    "## Preliminaries"
   ]
  },
  {
   "cell_type": "code",
   "execution_count": 332,
   "metadata": {},
   "outputs": [],
   "source": [
    "import pandas as pd\n",
    "import numpy as np\n",
    "import datetime as dt\n",
    "import matplotlib.pyplot as plt\n",
    "import seaborn as sns\n",
    "\n",
    "nobel = pd.read_csv(\"nobel.csv\")\n",
    "nobel.head()\n",
    "\n",
    "#sns.set_context(\"paper\") #will apply to all sns-plots\n",
    "sns.set_style(\"darkgrid\") #will apply to all sns-plots"
   ]
  },
  {
   "cell_type": "markdown",
   "metadata": {},
   "source": [
    "## Cleaning the data set\n"
   ]
  },
  {
   "cell_type": "code",
   "execution_count": 333,
   "metadata": {},
   "outputs": [
    {
     "name": "stdout",
     "output_type": "stream",
     "text": [
      "Size of dataset (row, column): (1000, 18)\n",
      "\n",
      "nobel.info() : \n",
      "\n",
      "<class 'pandas.core.frame.DataFrame'>\n",
      "RangeIndex: 1000 entries, 0 to 999\n",
      "Data columns (total 18 columns):\n",
      " #   Column                Non-Null Count  Dtype \n",
      "---  ------                --------------  ----- \n",
      " 0   year                  1000 non-null   int64 \n",
      " 1   category              1000 non-null   object\n",
      " 2   prize                 1000 non-null   object\n",
      " 3   motivation            912 non-null    object\n",
      " 4   prize_share           1000 non-null   object\n",
      " 5   laureate_id           1000 non-null   int64 \n",
      " 6   laureate_type         1000 non-null   object\n",
      " 7   full_name             1000 non-null   object\n",
      " 8   birth_date            968 non-null    object\n",
      " 9   birth_city            964 non-null    object\n",
      " 10  birth_country         969 non-null    object\n",
      " 11  sex                   970 non-null    object\n",
      " 12  organization_name     736 non-null    object\n",
      " 13  organization_city     735 non-null    object\n",
      " 14  organization_country  735 non-null    object\n",
      " 15  death_date            596 non-null    object\n",
      " 16  death_city            579 non-null    object\n",
      " 17  death_country         585 non-null    object\n",
      "dtypes: int64(2), object(16)\n",
      "memory usage: 140.8+ KB\n"
     ]
    }
   ],
   "source": [
    "print(\"Size of dataset (row, column): \" + str(nobel.shape) + '\\n')\n",
    "print(\"nobel.info() : \\n\")\n",
    "\n",
    "nobel.info()"
   ]
  },
  {
   "cell_type": "code",
   "execution_count": 334,
   "metadata": {},
   "outputs": [
    {
     "name": "stdout",
     "output_type": "stream",
     "text": [
      "\n",
      " NaN-values in each column: \n",
      "\n"
     ]
    },
    {
     "data": {
      "text/plain": [
       "year                      0\n",
       "category                  0\n",
       "prize                     0\n",
       "motivation               88\n",
       "prize_share               0\n",
       "laureate_id               0\n",
       "laureate_type             0\n",
       "full_name                 0\n",
       "birth_date               32\n",
       "birth_city               36\n",
       "birth_country            31\n",
       "sex                      30\n",
       "organization_name       264\n",
       "organization_city       265\n",
       "organization_country    265\n",
       "death_date              404\n",
       "death_city              421\n",
       "death_country           415\n",
       "dtype: int64"
      ]
     },
     "execution_count": 334,
     "metadata": {},
     "output_type": "execute_result"
    }
   ],
   "source": [
    "print(\"\\n NaN-values in each column: \\n\")\n",
    "nobel.isna().sum()"
   ]
  },
  {
   "cell_type": "markdown",
   "metadata": {},
   "source": [
    "We see that we will need to handle some missing values before we proceed. Also note that there are some columns that probbaly should be converted to another dtype: \n",
    "Columns related to dates should be converted to *datetime*. Columns only having some allowed values should be converte to *category*\n",
    "\n",
    "We'll handle the NaN values first, adding placeholder values for missing dates and a string for other missing values. \n",
    "After that we will convert the date columns to datetime. "
   ]
  },
  {
   "cell_type": "code",
   "execution_count": 335,
   "metadata": {},
   "outputs": [],
   "source": [
    "nobel[\"birth_date\"] = nobel[\"birth_date\"].fillna('2024-11-13') \n",
    "nobel[\"death_date\"] = nobel[\"death_date\"].fillna('2024-11-13') \n",
    "nobel = nobel.fillna(\"not given\") "
   ]
  },
  {
   "cell_type": "code",
   "execution_count": 336,
   "metadata": {},
   "outputs": [],
   "source": [
    "# We want to convert the category and laureate_type column to category dtype\n",
    "\n",
    "nobel[\"category\"] = nobel[\"category\"].astype('category')\n",
    "nobel[\"laureate_type\"] = nobel[\"laureate_type\"].astype('category')\n",
    "nobel[\"sex\"] = nobel[\"sex\"].astype('category')"
   ]
  },
  {
   "cell_type": "code",
   "execution_count": 337,
   "metadata": {},
   "outputs": [
    {
     "data": {
      "text/plain": [
       "year                    0\n",
       "category                0\n",
       "prize                   0\n",
       "motivation              0\n",
       "prize_share             0\n",
       "laureate_id             0\n",
       "laureate_type           0\n",
       "full_name               0\n",
       "birth_date              0\n",
       "birth_city              0\n",
       "birth_country           0\n",
       "sex                     0\n",
       "organization_name       0\n",
       "organization_city       0\n",
       "organization_country    0\n",
       "death_date              0\n",
       "death_city              0\n",
       "death_country           0\n",
       "dtype: int64"
      ]
     },
     "execution_count": 337,
     "metadata": {},
     "output_type": "execute_result"
    }
   ],
   "source": [
    "# We want to convert the birth date and death date column to datetime:\n",
    "nobel[\"birth_date\"] = pd.to_datetime(nobel[\"birth_date\"], errors='coerce', format='%Y%m%d')\n",
    "nobel[\"death_date\"] = pd.to_datetime(nobel[\"death_date\"], errors='coerce', format='%Y%m%d')\n",
    "\n",
    "# Handle NaT values that may have arisen during conversion (if some dates had an unsupported value/format)\n",
    "today = dt.date.today()\n",
    "nobel[\"birth_date\"] = nobel[\"birth_date\"].fillna(today) #placeholder values for missing dates\n",
    "nobel[\"death_date\"] = nobel[\"death_date\"].fillna(today) #placeholder values for missing dates\n",
    "\n",
    "nobel.isna().sum() #checking that we have no NaN values"
   ]
  },
  {
   "cell_type": "markdown",
   "metadata": {},
   "source": [
    "## Number of Nobel prizes awarded per category"
   ]
  },
  {
   "cell_type": "code",
   "execution_count": 387,
   "metadata": {},
   "outputs": [
    {
     "name": "stderr",
     "output_type": "stream",
     "text": [
      "C:\\Users\\Lene-LiseDaniloff\\AppData\\Local\\Temp\\ipykernel_44604\\476777914.py:2: FutureWarning: \n",
      "\n",
      "Passing `palette` without assigning `hue` is deprecated and will be removed in v0.14.0. Assign the `x` variable to `hue` and set `legend=False` for the same effect.\n",
      "\n",
      "  p5 = sns.catplot(kind=\"bar\", palette=\"deep\", data=nobel_categories)\n"
     ]
    },
    {
     "data": {
      "image/png": "[encoded data removed]",
      "text/plain": [
       "<Figure size 500x500 with 1 Axes>"
      ]
     },
     "metadata": {},
     "output_type": "display_data"
    }
   ],
   "source": [
    "nobel_categories = nobel[\"category\"].value_counts()\n",
    "p5 = sns.catplot(kind=\"bar\", palette=\"deep\", data=nobel_categories)\n",
    "p5.set(title=\"Number of prizes awarded per category\", xlabel=\"Category\", ylabel=\"Number of prizes\")\n",
    "plt.show()"
   ]
  },
  {
   "cell_type": "markdown",
   "metadata": {},
   "source": [
    "We see that Medicine is the prize that has the most number of prizes awarded, and Economics has the least. "
   ]
  },
  {
   "cell_type": "markdown",
   "metadata": {},
   "source": [
    "## Top gender and country among laureates\n",
    "We want to find the most commonly awarded gender and birth country amongst the laureats. "
   ]
  },
  {
   "cell_type": "code",
   "execution_count": 338,
   "metadata": {},
   "outputs": [
    {
     "data": {
      "image/png": "[encoded data removed]",
      "text/plain": [
       "<Figure size 500x500 with 1 Axes>"
      ]
     },
     "metadata": {},
     "output_type": "display_data"
    }
   ],
   "source": [
    "#Finding the top gender via visiualization: \n",
    "nobel['sex'].value_counts()\n",
    "p4 = sns.catplot(data=nobel, x='sex', hue='sex', kind='count', palette=\"deep\")\n",
    "p4.set(title='Laureates by gender', ylabel=\"Number of laureates\", xlabel=\"Gender\")\n",
    "top_gender = 'Male' #storing this variable is a datacamp requirement"
   ]
  },
  {
   "cell_type": "code",
   "execution_count": 339,
   "metadata": {},
   "outputs": [
    {
     "name": "stdout",
     "output_type": "stream",
     "text": [
      "Male is the most awarded gender.\n"
     ]
    },
    {
     "name": "stderr",
     "output_type": "stream",
     "text": [
      "C:\\Users\\Lene-LiseDaniloff\\AppData\\Local\\Temp\\ipykernel_44604\\3938758850.py:2: FutureWarning: The default of observed=False is deprecated and will be changed to True in a future version of pandas. Pass observed=False to retain current behavior or observed=True to adopt the future default and silence this warning.\n",
      "  nobel_by_gender = nobel.groupby('sex').count()\n"
     ]
    }
   ],
   "source": [
    "#Finding top gender via computing: \n",
    "nobel_by_gender = nobel.groupby('sex').count()\n",
    "top_gender = nobel_by_gender['year'].idxmax()  #storing this variable is a datacamp requirement\n",
    "print(top_gender + \" is the most awarded gender.\")"
   ]
  },
  {
   "cell_type": "code",
   "execution_count": 340,
   "metadata": {},
   "outputs": [
    {
     "data": {
      "text/plain": [
       "'United States of America'"
      ]
     },
     "execution_count": 340,
     "metadata": {},
     "output_type": "execute_result"
    }
   ],
   "source": [
    "#We find the top country by computing only:\n",
    "nobel_by_birthcountry = nobel.groupby('birth_country').count()\n",
    "top_country = nobel_by_birthcountry['year'].idxmax() #storing this variable is a datacamp requirement\n",
    "top_country"
   ]
  },
  {
   "cell_type": "markdown",
   "metadata": {},
   "source": [
    "## US laureates\n",
    "\n",
    "We want to find which decade had the highest *ratio* of US-born Nobel Prize winners in all categories. "
   ]
  },
  {
   "cell_type": "code",
   "execution_count": 341,
   "metadata": {},
   "outputs": [
    {
     "data": {
      "text/html": [
       "<div>\n",
       "<style scoped>\n",
       "    .dataframe tbody tr th:only-of-type {\n",
       "        vertical-align: middle;\n",
       "    }\n",
       "\n",
       "    .dataframe tbody tr th {\n",
       "        vertical-align: top;\n",
       "    }\n",
       "\n",
       "    .dataframe thead th {\n",
       "        text-align: right;\n",
       "    }\n",
       "</style>\n",
       "<table border=\"1\" class=\"dataframe\">\n",
       "  <thead>\n",
       "    <tr style=\"text-align: right;\">\n",
       "      <th></th>\n",
       "      <th>year</th>\n",
       "      <th>category</th>\n",
       "      <th>prize</th>\n",
       "      <th>motivation</th>\n",
       "      <th>prize_share</th>\n",
       "      <th>laureate_id</th>\n",
       "      <th>laureate_type</th>\n",
       "      <th>full_name</th>\n",
       "      <th>birth_date</th>\n",
       "      <th>birth_city</th>\n",
       "      <th>birth_country</th>\n",
       "      <th>sex</th>\n",
       "      <th>organization_name</th>\n",
       "      <th>organization_city</th>\n",
       "      <th>organization_country</th>\n",
       "      <th>death_date</th>\n",
       "      <th>death_city</th>\n",
       "      <th>death_country</th>\n",
       "      <th>decade</th>\n",
       "    </tr>\n",
       "  </thead>\n",
       "  <tbody>\n",
       "    <tr>\n",
       "      <th>35</th>\n",
       "      <td>1906</td>\n",
       "      <td>Peace</td>\n",
       "      <td>The Nobel Peace Prize 1906</td>\n",
       "      <td>not given</td>\n",
       "      <td>1/1</td>\n",
       "      <td>470</td>\n",
       "      <td>Individual</td>\n",
       "      <td>Theodore Roosevelt</td>\n",
       "      <td>2024-11-15</td>\n",
       "      <td>New York, NY</td>\n",
       "      <td>United States of America</td>\n",
       "      <td>Male</td>\n",
       "      <td>not given</td>\n",
       "      <td>not given</td>\n",
       "      <td>not given</td>\n",
       "      <td>2024-11-15</td>\n",
       "      <td>Oyster Bay, NY</td>\n",
       "      <td>United States of America</td>\n",
       "      <td>1900</td>\n",
       "    </tr>\n",
       "    <tr>\n",
       "      <th>72</th>\n",
       "      <td>1912</td>\n",
       "      <td>Peace</td>\n",
       "      <td>The Nobel Peace Prize 1912</td>\n",
       "      <td>not given</td>\n",
       "      <td>1/1</td>\n",
       "      <td>480</td>\n",
       "      <td>Individual</td>\n",
       "      <td>Elihu Root</td>\n",
       "      <td>2024-11-15</td>\n",
       "      <td>Clinton, NY</td>\n",
       "      <td>United States of America</td>\n",
       "      <td>Male</td>\n",
       "      <td>not given</td>\n",
       "      <td>not given</td>\n",
       "      <td>not given</td>\n",
       "      <td>2024-11-15</td>\n",
       "      <td>New York, NY</td>\n",
       "      <td>United States of America</td>\n",
       "      <td>1910</td>\n",
       "    </tr>\n",
       "  </tbody>\n",
       "</table>\n",
       "</div>"
      ],
      "text/plain": [
       "    year category                       prize motivation prize_share  \\\n",
       "35  1906    Peace  The Nobel Peace Prize 1906  not given         1/1   \n",
       "72  1912    Peace  The Nobel Peace Prize 1912  not given         1/1   \n",
       "\n",
       "    laureate_id laureate_type           full_name  birth_date    birth_city  \\\n",
       "35          470    Individual  Theodore Roosevelt  2024-11-15  New York, NY   \n",
       "72          480    Individual          Elihu Root  2024-11-15   Clinton, NY   \n",
       "\n",
       "               birth_country   sex organization_name organization_city  \\\n",
       "35  United States of America  Male         not given         not given   \n",
       "72  United States of America  Male         not given         not given   \n",
       "\n",
       "   organization_country  death_date      death_city             death_country  \\\n",
       "35            not given  2024-11-15  Oyster Bay, NY  United States of America   \n",
       "72            not given  2024-11-15    New York, NY  United States of America   \n",
       "\n",
       "   decade  \n",
       "35   1900  \n",
       "72   1910  "
      ]
     },
     "execution_count": 341,
     "metadata": {},
     "output_type": "execute_result"
    }
   ],
   "source": [
    "#First we create a bin of decades. The Nobel prize did not exist prior to 1900 so we start there. \n",
    "decades_bin = [1899,1909,1919,1929,1939,1949,1959,1969,1979,1989,1999,2009,2019,2029]\n",
    "decades_labels = ['1900','1910','1920','1930','1940','1950','1969','1970','1980','1990','2000','2010','2020']\n",
    "\n",
    "#adding the decade column, based on the year column:\n",
    "nobel.loc[:,'decade'] = pd.cut(x = nobel['year'], bins=decades_bin, labels=decades_labels)\n",
    "\n",
    "#Subsetting the rows of laureates from USA:\n",
    "nobel_us_laureate = nobel[ nobel[\"birth_country\"] == \"United States of America\"]\n",
    "nobel_us_laureate.sort_values(by=['year'], ascending=False)\n",
    "\n",
    "#previewing the new dataframe to sanity check it looks as expected\n",
    "nobel_us_laureate.head(2)"
   ]
  },
  {
   "cell_type": "code",
   "execution_count": 342,
   "metadata": {},
   "outputs": [
    {
     "name": "stderr",
     "output_type": "stream",
     "text": [
      "C:\\Users\\Lene-LiseDaniloff\\AppData\\Local\\Temp\\ipykernel_44604\\915730869.py:1: FutureWarning: \n",
      "\n",
      "Passing `palette` without assigning `hue` is deprecated and will be removed in v0.14.0. Assign the `x` variable to `hue` and set `legend=False` for the same effect.\n",
      "\n",
      "  p3 = sns.catplot(kind='count', data = nobel_us_laureate, x='decade', legend=False, palette=\"deep\")\n"
     ]
    },
    {
     "data": {
      "image/png": "[encoded data removed]",
      "text/plain": [
       "<Figure size 500x500 with 1 Axes>"
      ]
     },
     "metadata": {},
     "output_type": "display_data"
    }
   ],
   "source": [
    "p3 = sns.catplot(kind='count', data = nobel_us_laureate, x='decade', legend=False, palette=\"deep\")\n",
    "p3.set(title=\"Nobel prizes to US women\", xlabel=\"Decade\", ylabel=\"Number of laureates\")\n",
    "plt.show()"
   ]
  },
  {
   "cell_type": "code",
   "execution_count": 343,
   "metadata": {},
   "outputs": [],
   "source": [
    "max_decade_usa = '2000' #this variabel is a requirement from Datacamp"
   ]
  },
  {
   "cell_type": "markdown",
   "metadata": {},
   "source": [
    "## Exploring the female laureates\n",
    "In this section we want to explore the female ratio of laureates. First we ill find which decade had the higest female ration for each category. We will then move on to explore the female ratio for each decade (independent of category) and for each category. \n",
    "\n",
    "We will also find who was the first female winner of a Nobel prize. "
   ]
  },
  {
   "cell_type": "markdown",
   "metadata": {},
   "source": [
    "### The decade and category with the highest *ratio* of female laureates"
   ]
  },
  {
   "cell_type": "code",
   "execution_count": 344,
   "metadata": {},
   "outputs": [
    {
     "name": "stdout",
     "output_type": "stream",
     "text": [
      "The decade and category with the all time highest female ratio of prize winners are 2020, Literature category.\n"
     ]
    }
   ],
   "source": [
    "## Highest ratio of female \n",
    "nobel_dec_cat_gen = nobel.groupby(['sex','decade', 'category'], observed=True).count() #Group by gender, decade and category, and count occurrences\n",
    "nobel_dec_cat_gen = nobel_dec_cat_gen.loc['Female'] #separate out the rows with females\n",
    "\n",
    "nobel_dec_cat = nobel.groupby(['decade', 'category'],observed=True).count() #Group by decade and category (not gender), and count occurences\n",
    "nobel_dec_cat[\"female_ratio\"] = nobel_dec_cat_gen['year'] / nobel_dec_cat['year'] #calculate female ratio per decade + category, and add to nobel_dec_cat\n",
    "\n",
    "#Finding the max year and category:\n",
    "max_female = nobel_dec_cat['female_ratio'].idxmax() #find the maximum\n",
    "max_female_dict = {max_female[0]:max_female[1]} #this variable is a requirement from DataCamp\n",
    "print(\"The decade and category with the all time highest female ratio of prize winners are \" + str(max_female[0]) + \", \" + str(max_female[1]) + \" category.\")"
   ]
  },
  {
   "cell_type": "code",
   "execution_count": 345,
   "metadata": {},
   "outputs": [
    {
     "data": {
      "image/png": "[encoded data removed]",
      "text/plain": [
       "<Figure size 584.028x500 with 1 Axes>"
      ]
     },
     "metadata": {},
     "output_type": "display_data"
    }
   ],
   "source": [
    "p1 = sns.relplot(kind='scatter', data=nobel_dec_cat, \n",
    "                 hue='female_ratio', \n",
    "                 x='category', \n",
    "                 y='decade', \n",
    "                 size=\"female_ratio\", \n",
    "                 palette=\"coolwarm\"\n",
    "                 )\n",
    "p1.set(ylabel=\"Decade\", xlabel=\"Category\")\n",
    "plt.show()"
   ]
  },
  {
   "cell_type": "markdown",
   "metadata": {},
   "source": [
    "### Female ratio each decade\n",
    "Lets say we want to visualize the female ratio of laureates across categories. "
   ]
  },
  {
   "cell_type": "code",
   "execution_count": 346,
   "metadata": {},
   "outputs": [],
   "source": [
    "nobel_year = nobel.groupby('decade', observed=True).count()\n",
    "nobel_female_year = nobel.groupby(['sex', 'decade'], observed=True).count()\n",
    "nobel_female_year = nobel_female_year.loc['Female']\n",
    "nobel_year['female_ratio'] = nobel_female_year['category']/nobel_year['category']\n",
    "#nobel_year.head()"
   ]
  },
  {
   "cell_type": "code",
   "execution_count": 347,
   "metadata": {},
   "outputs": [
    {
     "name": "stderr",
     "output_type": "stream",
     "text": [
      "C:\\Users\\Lene-LiseDaniloff\\AppData\\Local\\Temp\\ipykernel_44604\\946416186.py:1: FutureWarning: \n",
      "\n",
      "Passing `palette` without assigning `hue` is deprecated and will be removed in v0.14.0. Assign the `x` variable to `hue` and set `legend=False` for the same effect.\n",
      "\n",
      "  p2 = sns.barplot(data=nobel_year, x='decade', y='female_ratio', palette=\"deep\")\n"
     ]
    },
    {
     "data": {
      "image/png": "[encoded data removed]",
      "text/plain": [
       "<Figure size 640x480 with 1 Axes>"
      ]
     },
     "metadata": {},
     "output_type": "display_data"
    }
   ],
   "source": [
    "p2 = sns.barplot(data=nobel_year, x='decade', y='female_ratio', palette=\"deep\")\n",
    "p2.set(title=\"Female ratio per decade, independent of Category\", ylabel=\"Female ratio\", xlabel=\"Decade\")\n",
    "plt.show()"
   ]
  },
  {
   "cell_type": "markdown",
   "metadata": {},
   "source": [
    "### Female ratio across categories\n"
   ]
  },
  {
   "cell_type": "code",
   "execution_count": 348,
   "metadata": {},
   "outputs": [
    {
     "data": {
      "text/html": [
       "<div>\n",
       "<style scoped>\n",
       "    .dataframe tbody tr th:only-of-type {\n",
       "        vertical-align: middle;\n",
       "    }\n",
       "\n",
       "    .dataframe tbody tr th {\n",
       "        vertical-align: top;\n",
       "    }\n",
       "\n",
       "    .dataframe thead th {\n",
       "        text-align: right;\n",
       "    }\n",
       "</style>\n",
       "<table border=\"1\" class=\"dataframe\">\n",
       "  <thead>\n",
       "    <tr style=\"text-align: right;\">\n",
       "      <th></th>\n",
       "      <th>year</th>\n",
       "      <th>prize</th>\n",
       "      <th>motivation</th>\n",
       "      <th>prize_share</th>\n",
       "      <th>laureate_id</th>\n",
       "      <th>laureate_type</th>\n",
       "      <th>full_name</th>\n",
       "      <th>birth_date</th>\n",
       "      <th>birth_city</th>\n",
       "      <th>birth_country</th>\n",
       "      <th>sex</th>\n",
       "      <th>organization_name</th>\n",
       "      <th>organization_city</th>\n",
       "      <th>organization_country</th>\n",
       "      <th>death_date</th>\n",
       "      <th>death_city</th>\n",
       "      <th>death_country</th>\n",
       "      <th>decade</th>\n",
       "      <th>female_ratio</th>\n",
       "    </tr>\n",
       "    <tr>\n",
       "      <th>category</th>\n",
       "      <th></th>\n",
       "      <th></th>\n",
       "      <th></th>\n",
       "      <th></th>\n",
       "      <th></th>\n",
       "      <th></th>\n",
       "      <th></th>\n",
       "      <th></th>\n",
       "      <th></th>\n",
       "      <th></th>\n",
       "      <th></th>\n",
       "      <th></th>\n",
       "      <th></th>\n",
       "      <th></th>\n",
       "      <th></th>\n",
       "      <th></th>\n",
       "      <th></th>\n",
       "      <th></th>\n",
       "      <th></th>\n",
       "    </tr>\n",
       "  </thead>\n",
       "  <tbody>\n",
       "    <tr>\n",
       "      <th>Chemistry</th>\n",
       "      <td>194</td>\n",
       "      <td>194</td>\n",
       "      <td>194</td>\n",
       "      <td>194</td>\n",
       "      <td>194</td>\n",
       "      <td>194</td>\n",
       "      <td>194</td>\n",
       "      <td>194</td>\n",
       "      <td>194</td>\n",
       "      <td>194</td>\n",
       "      <td>194</td>\n",
       "      <td>194</td>\n",
       "      <td>194</td>\n",
       "      <td>194</td>\n",
       "      <td>194</td>\n",
       "      <td>194</td>\n",
       "      <td>194</td>\n",
       "      <td>194</td>\n",
       "      <td>0.041237</td>\n",
       "    </tr>\n",
       "    <tr>\n",
       "      <th>Economics</th>\n",
       "      <td>93</td>\n",
       "      <td>93</td>\n",
       "      <td>93</td>\n",
       "      <td>93</td>\n",
       "      <td>93</td>\n",
       "      <td>93</td>\n",
       "      <td>93</td>\n",
       "      <td>93</td>\n",
       "      <td>93</td>\n",
       "      <td>93</td>\n",
       "      <td>93</td>\n",
       "      <td>93</td>\n",
       "      <td>93</td>\n",
       "      <td>93</td>\n",
       "      <td>93</td>\n",
       "      <td>93</td>\n",
       "      <td>93</td>\n",
       "      <td>93</td>\n",
       "      <td>0.032258</td>\n",
       "    </tr>\n",
       "    <tr>\n",
       "      <th>Literature</th>\n",
       "      <td>120</td>\n",
       "      <td>120</td>\n",
       "      <td>120</td>\n",
       "      <td>120</td>\n",
       "      <td>120</td>\n",
       "      <td>120</td>\n",
       "      <td>120</td>\n",
       "      <td>120</td>\n",
       "      <td>120</td>\n",
       "      <td>120</td>\n",
       "      <td>120</td>\n",
       "      <td>120</td>\n",
       "      <td>120</td>\n",
       "      <td>120</td>\n",
       "      <td>120</td>\n",
       "      <td>120</td>\n",
       "      <td>120</td>\n",
       "      <td>120</td>\n",
       "      <td>0.141667</td>\n",
       "    </tr>\n",
       "    <tr>\n",
       "      <th>Medicine</th>\n",
       "      <td>227</td>\n",
       "      <td>227</td>\n",
       "      <td>227</td>\n",
       "      <td>227</td>\n",
       "      <td>227</td>\n",
       "      <td>227</td>\n",
       "      <td>227</td>\n",
       "      <td>227</td>\n",
       "      <td>227</td>\n",
       "      <td>227</td>\n",
       "      <td>227</td>\n",
       "      <td>227</td>\n",
       "      <td>227</td>\n",
       "      <td>227</td>\n",
       "      <td>227</td>\n",
       "      <td>227</td>\n",
       "      <td>227</td>\n",
       "      <td>227</td>\n",
       "      <td>0.057269</td>\n",
       "    </tr>\n",
       "    <tr>\n",
       "      <th>Peace</th>\n",
       "      <td>141</td>\n",
       "      <td>141</td>\n",
       "      <td>141</td>\n",
       "      <td>141</td>\n",
       "      <td>141</td>\n",
       "      <td>141</td>\n",
       "      <td>141</td>\n",
       "      <td>141</td>\n",
       "      <td>141</td>\n",
       "      <td>141</td>\n",
       "      <td>141</td>\n",
       "      <td>141</td>\n",
       "      <td>141</td>\n",
       "      <td>141</td>\n",
       "      <td>141</td>\n",
       "      <td>141</td>\n",
       "      <td>141</td>\n",
       "      <td>141</td>\n",
       "      <td>0.134752</td>\n",
       "    </tr>\n",
       "    <tr>\n",
       "      <th>Physics</th>\n",
       "      <td>225</td>\n",
       "      <td>225</td>\n",
       "      <td>225</td>\n",
       "      <td>225</td>\n",
       "      <td>225</td>\n",
       "      <td>225</td>\n",
       "      <td>225</td>\n",
       "      <td>225</td>\n",
       "      <td>225</td>\n",
       "      <td>225</td>\n",
       "      <td>225</td>\n",
       "      <td>225</td>\n",
       "      <td>225</td>\n",
       "      <td>225</td>\n",
       "      <td>225</td>\n",
       "      <td>225</td>\n",
       "      <td>225</td>\n",
       "      <td>225</td>\n",
       "      <td>0.022222</td>\n",
       "    </tr>\n",
       "  </tbody>\n",
       "</table>\n",
       "</div>"
      ],
      "text/plain": [
       "            year  prize  motivation  prize_share  laureate_id  laureate_type  \\\n",
       "category                                                                       \n",
       "Chemistry    194    194         194          194          194            194   \n",
       "Economics     93     93          93           93           93             93   \n",
       "Literature   120    120         120          120          120            120   \n",
       "Medicine     227    227         227          227          227            227   \n",
       "Peace        141    141         141          141          141            141   \n",
       "Physics      225    225         225          225          225            225   \n",
       "\n",
       "            full_name  birth_date  birth_city  birth_country  sex  \\\n",
       "category                                                            \n",
       "Chemistry         194         194         194            194  194   \n",
       "Economics          93          93          93             93   93   \n",
       "Literature        120         120         120            120  120   \n",
       "Medicine          227         227         227            227  227   \n",
       "Peace             141         141         141            141  141   \n",
       "Physics           225         225         225            225  225   \n",
       "\n",
       "            organization_name  organization_city  organization_country  \\\n",
       "category                                                                 \n",
       "Chemistry                 194                194                   194   \n",
       "Economics                  93                 93                    93   \n",
       "Literature                120                120                   120   \n",
       "Medicine                  227                227                   227   \n",
       "Peace                     141                141                   141   \n",
       "Physics                   225                225                   225   \n",
       "\n",
       "            death_date  death_city  death_country  decade  female_ratio  \n",
       "category                                                                 \n",
       "Chemistry          194         194            194     194      0.041237  \n",
       "Economics           93          93             93      93      0.032258  \n",
       "Literature         120         120            120     120      0.141667  \n",
       "Medicine           227         227            227     227      0.057269  \n",
       "Peace              141         141            141     141      0.134752  \n",
       "Physics            225         225            225     225      0.022222  "
      ]
     },
     "execution_count": 348,
     "metadata": {},
     "output_type": "execute_result"
    }
   ],
   "source": [
    "nobel_cat_gen = nobel.groupby(['sex', 'category'], observed=True).count()\n",
    "nobel_cat = nobel.groupby('category', observed=True).count()\n",
    "nobel_cat_gen = nobel_cat_gen.loc['Female']\n",
    "nobel_cat['female_ratio'] = nobel_cat_gen['year'] / nobel_cat['year']\n",
    "nobel_cat"
   ]
  },
  {
   "cell_type": "code",
   "execution_count": 349,
   "metadata": {},
   "outputs": [
    {
     "name": "stderr",
     "output_type": "stream",
     "text": [
      "C:\\Users\\Lene-LiseDaniloff\\AppData\\Local\\Temp\\ipykernel_44604\\3698707507.py:1: FutureWarning: \n",
      "\n",
      "Passing `palette` without assigning `hue` is deprecated and will be removed in v0.14.0. Assign the `x` variable to `hue` and set `legend=False` for the same effect.\n",
      "\n",
      "  p = sns.barplot(data=nobel_cat, x='category', y='female_ratio', palette=\"deep\")\n"
     ]
    },
    {
     "data": {
      "text/plain": [
       "[Text(0.5, 1.0, 'Female ratio of Nobel laureates'),\n",
       " Text(0, 0.5, 'Female ratio')]"
      ]
     },
     "execution_count": 349,
     "metadata": {},
     "output_type": "execute_result"
    },
    {
     "data": {
      "image/png": "[encoded data removed]",
      "text/plain": [
       "<Figure size 640x480 with 1 Axes>"
      ]
     },
     "metadata": {},
     "output_type": "display_data"
    }
   ],
   "source": [
    "p = sns.barplot(data=nobel_cat, x='category', y='female_ratio', palette=\"deep\")\n",
    "p.set(title=\"Female ratio of Nobel laureates\", ylabel=\"Female ratio\")"
   ]
  },
  {
   "cell_type": "markdown",
   "metadata": {},
   "source": [
    "### First female winner(s)\n",
    "\n",
    "We want to find the three first women to win a Nobel Prize, and also see which category they won a prize in. Due to datacamp requirements, the first female winner will be saved in a separate dictionary. "
   ]
  },
  {
   "cell_type": "code",
   "execution_count": 350,
   "metadata": {},
   "outputs": [
    {
     "data": {
      "text/html": [
       "<div>\n",
       "<style scoped>\n",
       "    .dataframe tbody tr th:only-of-type {\n",
       "        vertical-align: middle;\n",
       "    }\n",
       "\n",
       "    .dataframe tbody tr th {\n",
       "        vertical-align: top;\n",
       "    }\n",
       "\n",
       "    .dataframe thead th {\n",
       "        text-align: right;\n",
       "    }\n",
       "</style>\n",
       "<table border=\"1\" class=\"dataframe\">\n",
       "  <thead>\n",
       "    <tr style=\"text-align: right;\">\n",
       "      <th></th>\n",
       "      <th>year</th>\n",
       "      <th>category</th>\n",
       "      <th>prize</th>\n",
       "      <th>motivation</th>\n",
       "      <th>prize_share</th>\n",
       "      <th>laureate_id</th>\n",
       "      <th>laureate_type</th>\n",
       "      <th>full_name</th>\n",
       "      <th>birth_date</th>\n",
       "      <th>birth_city</th>\n",
       "      <th>birth_country</th>\n",
       "      <th>sex</th>\n",
       "      <th>organization_name</th>\n",
       "      <th>organization_city</th>\n",
       "      <th>organization_country</th>\n",
       "      <th>death_date</th>\n",
       "      <th>death_city</th>\n",
       "      <th>death_country</th>\n",
       "      <th>decade</th>\n",
       "    </tr>\n",
       "  </thead>\n",
       "  <tbody>\n",
       "    <tr>\n",
       "      <th>0</th>\n",
       "      <td>1901</td>\n",
       "      <td>Chemistry</td>\n",
       "      <td>The Nobel Prize in Chemistry 1901</td>\n",
       "      <td>\"in recognition of the extraordinary services ...</td>\n",
       "      <td>1/1</td>\n",
       "      <td>160</td>\n",
       "      <td>Individual</td>\n",
       "      <td>Jacobus Henricus van 't Hoff</td>\n",
       "      <td>2024-11-15</td>\n",
       "      <td>Rotterdam</td>\n",
       "      <td>Netherlands</td>\n",
       "      <td>Male</td>\n",
       "      <td>Berlin University</td>\n",
       "      <td>Berlin</td>\n",
       "      <td>Germany</td>\n",
       "      <td>2024-11-15</td>\n",
       "      <td>Berlin</td>\n",
       "      <td>Germany</td>\n",
       "      <td>1900</td>\n",
       "    </tr>\n",
       "    <tr>\n",
       "      <th>1</th>\n",
       "      <td>1901</td>\n",
       "      <td>Literature</td>\n",
       "      <td>The Nobel Prize in Literature 1901</td>\n",
       "      <td>\"in special recognition of his poetic composit...</td>\n",
       "      <td>1/1</td>\n",
       "      <td>569</td>\n",
       "      <td>Individual</td>\n",
       "      <td>Sully Prudhomme</td>\n",
       "      <td>2024-11-15</td>\n",
       "      <td>Paris</td>\n",
       "      <td>France</td>\n",
       "      <td>Male</td>\n",
       "      <td>not given</td>\n",
       "      <td>not given</td>\n",
       "      <td>not given</td>\n",
       "      <td>2024-11-15</td>\n",
       "      <td>Châtenay</td>\n",
       "      <td>France</td>\n",
       "      <td>1900</td>\n",
       "    </tr>\n",
       "  </tbody>\n",
       "</table>\n",
       "</div>"
      ],
      "text/plain": [
       "   year    category                               prize  \\\n",
       "0  1901   Chemistry   The Nobel Prize in Chemistry 1901   \n",
       "1  1901  Literature  The Nobel Prize in Literature 1901   \n",
       "\n",
       "                                          motivation prize_share  laureate_id  \\\n",
       "0  \"in recognition of the extraordinary services ...         1/1          160   \n",
       "1  \"in special recognition of his poetic composit...         1/1          569   \n",
       "\n",
       "  laureate_type                     full_name  birth_date birth_city  \\\n",
       "0    Individual  Jacobus Henricus van 't Hoff  2024-11-15  Rotterdam   \n",
       "1    Individual               Sully Prudhomme  2024-11-15      Paris   \n",
       "\n",
       "  birth_country   sex  organization_name organization_city  \\\n",
       "0   Netherlands  Male  Berlin University            Berlin   \n",
       "1        France  Male          not given         not given   \n",
       "\n",
       "  organization_country  death_date death_city death_country decade  \n",
       "0              Germany  2024-11-15     Berlin       Germany   1900  \n",
       "1            not given  2024-11-15   Châtenay        France   1900  "
      ]
     },
     "execution_count": 350,
     "metadata": {},
     "output_type": "execute_result"
    }
   ],
   "source": [
    "nobel.head(2)"
   ]
  },
  {
   "cell_type": "code",
   "execution_count": 354,
   "metadata": {},
   "outputs": [
    {
     "name": "stdout",
     "output_type": "stream",
     "text": [
      "Marie Curie, née Sklodowska, Physics\n"
     ]
    }
   ],
   "source": [
    "#The first female winner\n",
    "nobel_female = nobel[nobel['sex']=='Female'].reset_index(drop=True) #subsetting the rows of female laurates\n",
    "first_woman_name = nobel_female.iloc[nobel_female['year'].idxmin()]['full_name'] #this variable is a datacamp requirement\n",
    "first_woman_category = nobel_female.iloc[nobel_female['year'].idxmin()]['category'] #this variable is a datacamp requirement\n",
    "print(first_woman_name + \", \" + first_woman_category)\n"
   ]
  },
  {
   "cell_type": "code",
   "execution_count": 366,
   "metadata": {},
   "outputs": [
    {
     "name": "stdout",
     "output_type": "stream",
     "text": [
      "THE THREE FIRST FEMALE NOBEL WINNERS:\n",
      "\n",
      "Marie Curie, née Sklodowska won the Nobel price for Physics in 1903.\n",
      "She shared the prize with other laureates.\n",
      "\n",
      "Baroness Bertha Sophie Felicita von Suttner, née Countess Kinsky von Chinic und Tettau won the Nobel price for Peace in 1905.\n",
      "She won the individually (alone).\n",
      "\n",
      "Selma Ottilia Lovisa Lagerlöf won the Nobel price for Literature in 1909.\n",
      "She won the individually (alone).\n",
      "\n"
     ]
    }
   ],
   "source": [
    "#The 3 first female winners\n",
    "nobel_female = nobel_female.sort_values(by=['year'], ascending=True)\n",
    "\n",
    "print(\"THE THREE FIRST FEMALE NOBEL WINNERS:\\n\")\n",
    "for n in range(3): \n",
    "    female = nobel_female.iloc[n]\n",
    "    print(female['full_name'] + \" won the Nobel price for \" + str(female['category']) + \" in \" + str(female['year']) + \".\")\n",
    "    if female[\"prize_share\"]!= '1/1':\n",
    "        print(\"She shared the prize with other laureates.\\n\")\n",
    "    else:\n",
    "        print(\"She won the individually (alone).\\n\")"
   ]
  },
  {
   "cell_type": "markdown",
   "metadata": {},
   "source": [
    "### Women and Nobel prizes - short summary of findings\n",
    "\n",
    "We have seen that it is far more common for a woman to win a Nobel prize in literature or peace. \n",
    "\n",
    "We have also seen that the overall ratio of female Nobel prize winners (across categories) has been low since the start, but that the ratio has increased every decade since 1990. \n",
    "\n",
    "An all time minimum happened in 1950, when there were no female laurates at all in either category. "
   ]
  },
  {
   "cell_type": "markdown",
   "metadata": {},
   "source": [
    "## Individuals and/or organizations with more than one win\n",
    "\n",
    "We want to find out if someone, individuals or organizations, has ever won a Nobel prize more than once. We will store their full names in a list. "
   ]
  },
  {
   "cell_type": "code",
   "execution_count": null,
   "metadata": {},
   "outputs": [
    {
     "data": {
      "text/plain": [
       "['Marie Curie, née Sklodowska',\n",
       " 'Comité international de la Croix Rouge (International Committee of the Red Cross)',\n",
       " 'Linus Carl Pauling',\n",
       " 'John Bardeen',\n",
       " 'Frederick Sanger',\n",
       " 'Office of the United Nations High Commissioner for Refugees (UNHCR)']"
      ]
     },
     "execution_count": 223,
     "metadata": {},
     "output_type": "execute_result"
    }
   ],
   "source": [
    "## Remaining: indoviduals and organizations with more than 1 win\n",
    "duplicates = nobel[\"full_name\"].duplicated()\n",
    "duplicated_folks = nobel[duplicates].drop_duplicates('laureate_id')\n",
    "repeat_list = duplicated_folks['full_name'].tolist() #This list is a datacamp requirement\n",
    "repeat_list"
   ]
  },
  {
   "cell_type": "markdown",
   "metadata": {},
   "source": [
    "### Questions from udemy (using the same dataset)\n",
    "1. Create a donut chart using plotly which shows how many prizes went to men compared to how many prizes went to women. What percentage of all the prizes went to women?\n",
    "\n",
    "7. When was the first prize in the field of Economics awarded? Who did the prize go to?\n",
    "\n",
    "8. Create a plotly bar chart that shows the split between men and women by category."
   ]
  }
 ],
 "metadata": {
  "kernelspec": {
   "display_name": ".venv",
   "language": "python",
   "name": "python3"
  },
  "language_info": {
   "codemirror_mode": {
    "name": "ipython",
    "version": 3
   },
   "file_extension": ".py",
   "mimetype": "text/x-python",
   "name": "python",
   "nbconvert_exporter": "python",
   "pygments_lexer": "ipython3",
   "version": "3.13.0"
  }
 },
 "nbformat": 4,
 "nbformat_minor": 2
}
