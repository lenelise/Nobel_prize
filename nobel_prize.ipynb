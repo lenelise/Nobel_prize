{
 "cells": [
  {
   "cell_type": "markdown",
   "metadata": {},
   "source": [
    "## Exploring nobel prize laureates\n",
    "\n",
    "In this notebook we use a dataset over all Nobel prize laurates from it's start in 1901 until today. We will try to explore many perspectives through this dataset, using the exercises and challenges from DataCamp and Udemy as a starting point. \n",
    "\n",
    "### Questions from datacamp: \n",
    "1. What is the most commonly awarded gender and birth country? Store your answers as string variables top_gender and top_country.\n",
    "2. Which decade had the highest ratio of US-born Nobel Prize winners to total winners in all categories? Store this as an integer called max_decade_usa.\n",
    "3. Which decade and Nobel Prize category combination had the highest proportion of female laureates?\n",
    "4. Store this as a dictionary called max_female_dict where the decade is the key and the category is the value. There should only be one key:value pair.\n",
    "5. Who was the first woman to receive a Nobel Prize, and in what category? Save your string answers as first_woman_name and first_woman_category.\n",
    "6. Which individuals or organizations have won more than one Nobel Prize throughout the years? Store the full names in a list named repeat_list.\n",
    "\n",
    "### Questions from udemy (using the same dataset)\n",
    "1. Create a donut chart using plotly which shows how many prizes went to men compared to how many prizes went to women. What percentage of all the prizes went to women?\n",
    "2. What are the names of the first 3 female Nobel laureates?\n",
    "    - What did the win the prize for?\n",
    "    - What do you see in their birth_country? Were they part of an organisation?\n",
    "3. Did some people get a Nobel Prize more than once? If so, who were they?\n",
    "4. In how many categories are prizes awarded? Create a plotly bar chart with the number of prizes awarded by category.Use the color scale called Aggrnyl to colour the chart, but don't show a color axis.\n",
    "5. Which category has the most number of prizes awarded?\n",
    "6. Which category has the fewest number of prizes awarded?\n",
    "7. When was the first prize in the field of Economics awarded? Who did the prize go to?\n",
    "8. Create a plotly bar chart that shows the split between men and women by category."
   ]
  },
  {
   "cell_type": "markdown",
   "metadata": {},
   "source": [
    "## Preliminaries"
   ]
  },
  {
   "cell_type": "code",
   "execution_count": 2,
   "metadata": {},
   "outputs": [
    {
     "data": {
      "text/html": [
       "<div>\n",
       "<style scoped>\n",
       "    .dataframe tbody tr th:only-of-type {\n",
       "        vertical-align: middle;\n",
       "    }\n",
       "\n",
       "    .dataframe tbody tr th {\n",
       "        vertical-align: top;\n",
       "    }\n",
       "\n",
       "    .dataframe thead th {\n",
       "        text-align: right;\n",
       "    }\n",
       "</style>\n",
       "<table border=\"1\" class=\"dataframe\">\n",
       "  <thead>\n",
       "    <tr style=\"text-align: right;\">\n",
       "      <th></th>\n",
       "      <th>year</th>\n",
       "      <th>category</th>\n",
       "      <th>prize</th>\n",
       "      <th>motivation</th>\n",
       "      <th>prize_share</th>\n",
       "      <th>laureate_id</th>\n",
       "      <th>laureate_type</th>\n",
       "      <th>full_name</th>\n",
       "      <th>birth_date</th>\n",
       "      <th>birth_city</th>\n",
       "      <th>birth_country</th>\n",
       "      <th>sex</th>\n",
       "      <th>organization_name</th>\n",
       "      <th>organization_city</th>\n",
       "      <th>organization_country</th>\n",
       "      <th>death_date</th>\n",
       "      <th>death_city</th>\n",
       "      <th>death_country</th>\n",
       "    </tr>\n",
       "  </thead>\n",
       "  <tbody>\n",
       "    <tr>\n",
       "      <th>0</th>\n",
       "      <td>1901</td>\n",
       "      <td>Chemistry</td>\n",
       "      <td>The Nobel Prize in Chemistry 1901</td>\n",
       "      <td>\"in recognition of the extraordinary services ...</td>\n",
       "      <td>1/1</td>\n",
       "      <td>160</td>\n",
       "      <td>Individual</td>\n",
       "      <td>Jacobus Henricus van 't Hoff</td>\n",
       "      <td>1852-08-30</td>\n",
       "      <td>Rotterdam</td>\n",
       "      <td>Netherlands</td>\n",
       "      <td>Male</td>\n",
       "      <td>Berlin University</td>\n",
       "      <td>Berlin</td>\n",
       "      <td>Germany</td>\n",
       "      <td>1911-03-01</td>\n",
       "      <td>Berlin</td>\n",
       "      <td>Germany</td>\n",
       "    </tr>\n",
       "    <tr>\n",
       "      <th>1</th>\n",
       "      <td>1901</td>\n",
       "      <td>Literature</td>\n",
       "      <td>The Nobel Prize in Literature 1901</td>\n",
       "      <td>\"in special recognition of his poetic composit...</td>\n",
       "      <td>1/1</td>\n",
       "      <td>569</td>\n",
       "      <td>Individual</td>\n",
       "      <td>Sully Prudhomme</td>\n",
       "      <td>1839-03-16</td>\n",
       "      <td>Paris</td>\n",
       "      <td>France</td>\n",
       "      <td>Male</td>\n",
       "      <td>NaN</td>\n",
       "      <td>NaN</td>\n",
       "      <td>NaN</td>\n",
       "      <td>1907-09-07</td>\n",
       "      <td>Châtenay</td>\n",
       "      <td>France</td>\n",
       "    </tr>\n",
       "    <tr>\n",
       "      <th>2</th>\n",
       "      <td>1901</td>\n",
       "      <td>Medicine</td>\n",
       "      <td>The Nobel Prize in Physiology or Medicine 1901</td>\n",
       "      <td>\"for his work on serum therapy, especially its...</td>\n",
       "      <td>1/1</td>\n",
       "      <td>293</td>\n",
       "      <td>Individual</td>\n",
       "      <td>Emil Adolf von Behring</td>\n",
       "      <td>1854-03-15</td>\n",
       "      <td>Hansdorf (Lawice)</td>\n",
       "      <td>Prussia (Poland)</td>\n",
       "      <td>Male</td>\n",
       "      <td>Marburg University</td>\n",
       "      <td>Marburg</td>\n",
       "      <td>Germany</td>\n",
       "      <td>1917-03-31</td>\n",
       "      <td>Marburg</td>\n",
       "      <td>Germany</td>\n",
       "    </tr>\n",
       "    <tr>\n",
       "      <th>3</th>\n",
       "      <td>1901</td>\n",
       "      <td>Peace</td>\n",
       "      <td>The Nobel Peace Prize 1901</td>\n",
       "      <td>NaN</td>\n",
       "      <td>1/2</td>\n",
       "      <td>462</td>\n",
       "      <td>Individual</td>\n",
       "      <td>Jean Henry Dunant</td>\n",
       "      <td>1828-05-08</td>\n",
       "      <td>Geneva</td>\n",
       "      <td>Switzerland</td>\n",
       "      <td>Male</td>\n",
       "      <td>NaN</td>\n",
       "      <td>NaN</td>\n",
       "      <td>NaN</td>\n",
       "      <td>1910-10-30</td>\n",
       "      <td>Heiden</td>\n",
       "      <td>Switzerland</td>\n",
       "    </tr>\n",
       "    <tr>\n",
       "      <th>4</th>\n",
       "      <td>1901</td>\n",
       "      <td>Peace</td>\n",
       "      <td>The Nobel Peace Prize 1901</td>\n",
       "      <td>NaN</td>\n",
       "      <td>1/2</td>\n",
       "      <td>463</td>\n",
       "      <td>Individual</td>\n",
       "      <td>Frédéric Passy</td>\n",
       "      <td>1822-05-20</td>\n",
       "      <td>Paris</td>\n",
       "      <td>France</td>\n",
       "      <td>Male</td>\n",
       "      <td>NaN</td>\n",
       "      <td>NaN</td>\n",
       "      <td>NaN</td>\n",
       "      <td>1912-06-12</td>\n",
       "      <td>Paris</td>\n",
       "      <td>France</td>\n",
       "    </tr>\n",
       "  </tbody>\n",
       "</table>\n",
       "</div>"
      ],
      "text/plain": [
       "   year    category                                           prize  \\\n",
       "0  1901   Chemistry               The Nobel Prize in Chemistry 1901   \n",
       "1  1901  Literature              The Nobel Prize in Literature 1901   \n",
       "2  1901    Medicine  The Nobel Prize in Physiology or Medicine 1901   \n",
       "3  1901       Peace                      The Nobel Peace Prize 1901   \n",
       "4  1901       Peace                      The Nobel Peace Prize 1901   \n",
       "\n",
       "                                          motivation prize_share  laureate_id  \\\n",
       "0  \"in recognition of the extraordinary services ...         1/1          160   \n",
       "1  \"in special recognition of his poetic composit...         1/1          569   \n",
       "2  \"for his work on serum therapy, especially its...         1/1          293   \n",
       "3                                                NaN         1/2          462   \n",
       "4                                                NaN         1/2          463   \n",
       "\n",
       "  laureate_type                     full_name  birth_date         birth_city  \\\n",
       "0    Individual  Jacobus Henricus van 't Hoff  1852-08-30          Rotterdam   \n",
       "1    Individual               Sully Prudhomme  1839-03-16              Paris   \n",
       "2    Individual        Emil Adolf von Behring  1854-03-15  Hansdorf (Lawice)   \n",
       "3    Individual             Jean Henry Dunant  1828-05-08             Geneva   \n",
       "4    Individual                Frédéric Passy  1822-05-20              Paris   \n",
       "\n",
       "      birth_country   sex   organization_name organization_city  \\\n",
       "0       Netherlands  Male   Berlin University            Berlin   \n",
       "1            France  Male                 NaN               NaN   \n",
       "2  Prussia (Poland)  Male  Marburg University           Marburg   \n",
       "3       Switzerland  Male                 NaN               NaN   \n",
       "4            France  Male                 NaN               NaN   \n",
       "\n",
       "  organization_country  death_date death_city death_country  \n",
       "0              Germany  1911-03-01     Berlin       Germany  \n",
       "1                  NaN  1907-09-07   Châtenay        France  \n",
       "2              Germany  1917-03-31    Marburg       Germany  \n",
       "3                  NaN  1910-10-30     Heiden   Switzerland  \n",
       "4                  NaN  1912-06-12      Paris        France  "
      ]
     },
     "execution_count": 2,
     "metadata": {},
     "output_type": "execute_result"
    }
   ],
   "source": [
    "import pandas as pd\n",
    "import numpy as np\n",
    "import datetime as dt\n",
    "import matplotlib.pyplot as plt\n",
    "import seaborn as sns\n",
    "\n",
    "nobel = pd.read_csv(\"nobel.csv\")\n",
    "nobel.head()"
   ]
  },
  {
   "cell_type": "markdown",
   "metadata": {},
   "source": [
    "## Exploring and cleaning the data set\n"
   ]
  },
  {
   "cell_type": "code",
   "execution_count": 3,
   "metadata": {},
   "outputs": [
    {
     "data": {
      "text/plain": [
       "(1000, 18)"
      ]
     },
     "execution_count": 3,
     "metadata": {},
     "output_type": "execute_result"
    }
   ],
   "source": [
    "nobel.shape"
   ]
  },
  {
   "cell_type": "code",
   "execution_count": 4,
   "metadata": {},
   "outputs": [
    {
     "name": "stdout",
     "output_type": "stream",
     "text": [
      "<class 'pandas.core.frame.DataFrame'>\n",
      "RangeIndex: 1000 entries, 0 to 999\n",
      "Data columns (total 18 columns):\n",
      " #   Column                Non-Null Count  Dtype \n",
      "---  ------                --------------  ----- \n",
      " 0   year                  1000 non-null   int64 \n",
      " 1   category              1000 non-null   object\n",
      " 2   prize                 1000 non-null   object\n",
      " 3   motivation            912 non-null    object\n",
      " 4   prize_share           1000 non-null   object\n",
      " 5   laureate_id           1000 non-null   int64 \n",
      " 6   laureate_type         1000 non-null   object\n",
      " 7   full_name             1000 non-null   object\n",
      " 8   birth_date            968 non-null    object\n",
      " 9   birth_city            964 non-null    object\n",
      " 10  birth_country         969 non-null    object\n",
      " 11  sex                   970 non-null    object\n",
      " 12  organization_name     736 non-null    object\n",
      " 13  organization_city     735 non-null    object\n",
      " 14  organization_country  735 non-null    object\n",
      " 15  death_date            596 non-null    object\n",
      " 16  death_city            579 non-null    object\n",
      " 17  death_country         585 non-null    object\n",
      "dtypes: int64(2), object(16)\n",
      "memory usage: 140.8+ KB\n"
     ]
    }
   ],
   "source": [
    "nobel.info()"
   ]
  },
  {
   "cell_type": "code",
   "execution_count": 5,
   "metadata": {},
   "outputs": [
    {
     "data": {
      "text/plain": [
       "year                      0\n",
       "category                  0\n",
       "prize                     0\n",
       "motivation               88\n",
       "prize_share               0\n",
       "laureate_id               0\n",
       "laureate_type             0\n",
       "full_name                 0\n",
       "birth_date               32\n",
       "birth_city               36\n",
       "birth_country            31\n",
       "sex                      30\n",
       "organization_name       264\n",
       "organization_city       265\n",
       "organization_country    265\n",
       "death_date              404\n",
       "death_city              421\n",
       "death_country           415\n",
       "dtype: int64"
      ]
     },
     "execution_count": 5,
     "metadata": {},
     "output_type": "execute_result"
    }
   ],
   "source": [
    "nobel.isna().sum()"
   ]
  },
  {
   "cell_type": "markdown",
   "metadata": {},
   "source": [
    "What should we do with the missing values? \n",
    "- We'll insert a dummy date for missing values in birth_date and death_date column\n",
    "- We'll insert the string \"not given\" for all other missing values"
   ]
  },
  {
   "cell_type": "code",
   "execution_count": 6,
   "metadata": {},
   "outputs": [],
   "source": [
    "# Filling in values for the NaN's\n",
    "nobel[\"birth_date\"] = nobel[\"birth_date\"].fillna('2024-11-13') #placheolder value\n",
    "nobel[\"death_date\"] = nobel[\"death_date\"].fillna('2024-11-13') #placeholder value\n",
    "\n",
    "nobel = nobel.fillna(\"not given\") #the rest of the missing values regardless of column"
   ]
  },
  {
   "cell_type": "code",
   "execution_count": 7,
   "metadata": {},
   "outputs": [
    {
     "name": "stdout",
     "output_type": "stream",
     "text": [
      "<class 'pandas.core.frame.DataFrame'>\n",
      "RangeIndex: 1000 entries, 0 to 999\n",
      "Data columns (total 18 columns):\n",
      " #   Column                Non-Null Count  Dtype \n",
      "---  ------                --------------  ----- \n",
      " 0   year                  1000 non-null   int64 \n",
      " 1   category              1000 non-null   object\n",
      " 2   prize                 1000 non-null   object\n",
      " 3   motivation            1000 non-null   object\n",
      " 4   prize_share           1000 non-null   object\n",
      " 5   laureate_id           1000 non-null   int64 \n",
      " 6   laureate_type         1000 non-null   object\n",
      " 7   full_name             1000 non-null   object\n",
      " 8   birth_date            1000 non-null   object\n",
      " 9   birth_city            1000 non-null   object\n",
      " 10  birth_country         1000 non-null   object\n",
      " 11  sex                   1000 non-null   object\n",
      " 12  organization_name     1000 non-null   object\n",
      " 13  organization_city     1000 non-null   object\n",
      " 14  organization_country  1000 non-null   object\n",
      " 15  death_date            1000 non-null   object\n",
      " 16  death_city            1000 non-null   object\n",
      " 17  death_country         1000 non-null   object\n",
      "dtypes: int64(2), object(16)\n",
      "memory usage: 140.8+ KB\n"
     ]
    }
   ],
   "source": [
    "#checking the dtype's\n",
    "nobel.info()"
   ]
  },
  {
   "cell_type": "code",
   "execution_count": 8,
   "metadata": {},
   "outputs": [],
   "source": [
    "# We want to convert the category and laureate_type column to category dtype\n",
    "\n",
    "#category_prize = nobel[\"category\"].unique().tolist()\n",
    "#category_laureate_type = nobel[\"laureate_type\"].unique().tolist()\n",
    "\n",
    "nobel[\"category\"] = nobel[\"category\"].astype('category')\n",
    "nobel[\"laureate_type\"] = nobel[\"laureate_type\"].astype('category')\n",
    "nobel[\"sex\"] = nobel[\"sex\"].astype('category')\n"
   ]
  },
  {
   "cell_type": "code",
   "execution_count": 9,
   "metadata": {},
   "outputs": [
    {
     "data": {
      "text/plain": [
       "year                    0\n",
       "category                0\n",
       "prize                   0\n",
       "motivation              0\n",
       "prize_share             0\n",
       "laureate_id             0\n",
       "laureate_type           0\n",
       "full_name               0\n",
       "birth_date              0\n",
       "birth_city              0\n",
       "birth_country           0\n",
       "sex                     0\n",
       "organization_name       0\n",
       "organization_city       0\n",
       "organization_country    0\n",
       "death_date              0\n",
       "death_city              0\n",
       "death_country           0\n",
       "dtype: int64"
      ]
     },
     "execution_count": 9,
     "metadata": {},
     "output_type": "execute_result"
    }
   ],
   "source": [
    "# We want to convert the birth date and death date column to datetime:\n",
    "nobel[\"birth_date\"] = pd.to_datetime(nobel[\"birth_date\"], errors='coerce', format='%y%m%d')\n",
    "nobel[\"death_date\"] = pd.to_datetime(nobel[\"death_date\"], errors='coerce', format='%y%m%d')\n",
    "\n",
    "# Handle NaT values that arose during the datetime conversion: \n",
    "today = dt.date.today()\n",
    "nobel[\"birth_date\"] = nobel[\"birth_date\"].fillna(today) #placeholder values for missing dates\n",
    "nobel[\"death_date\"] = nobel[\"death_date\"].fillna(today) #placeholder values for missing dates\n",
    "\n",
    "nobel.isna().sum() #checking that we have no NaN values"
   ]
  },
  {
   "cell_type": "code",
   "execution_count": 10,
   "metadata": {},
   "outputs": [
    {
     "data": {
      "text/plain": [
       "0      2024-11-14\n",
       "1      2024-11-14\n",
       "2      2024-11-14\n",
       "3      2024-11-14\n",
       "4      2024-11-14\n",
       "          ...    \n",
       "995    2024-11-14\n",
       "996    2024-11-14\n",
       "997    2024-11-14\n",
       "998    2024-11-14\n",
       "999    2024-11-14\n",
       "Name: birth_date, Length: 1000, dtype: object"
      ]
     },
     "execution_count": 10,
     "metadata": {},
     "output_type": "execute_result"
    }
   ],
   "source": [
    "nobel[\"birth_date\"]"
   ]
  },
  {
   "cell_type": "markdown",
   "metadata": {},
   "source": [
    "## Top gender among laureates"
   ]
  },
  {
   "cell_type": "code",
   "execution_count": 11,
   "metadata": {},
   "outputs": [
    {
     "data": {
      "image/png": "[encoded data removed]",
      "text/plain": [
       "<Figure size 640x480 with 1 Axes>"
      ]
     },
     "metadata": {},
     "output_type": "display_data"
    }
   ],
   "source": [
    "#Finding the top gender via visiualization: \n",
    "nobel['sex'].value_counts()\n",
    "sns.countplot(data=nobel, x='sex')\n",
    "top_gender = 'Male' #storing this variable is a datacamp requirement"
   ]
  },
  {
   "cell_type": "code",
   "execution_count": 12,
   "metadata": {},
   "outputs": [
    {
     "name": "stdout",
     "output_type": "stream",
     "text": [
      "Male is the most awarded gender\n"
     ]
    },
    {
     "name": "stderr",
     "output_type": "stream",
     "text": [
      "C:\\Users\\Lene-LiseDaniloff\\AppData\\Local\\Temp\\ipykernel_41616\\693848625.py:2: FutureWarning: The default of observed=False is deprecated and will be changed to True in a future version of pandas. Pass observed=False to retain current behavior or observed=True to adopt the future default and silence this warning.\n",
      "  nobel_by_gender = nobel.groupby('sex').count()\n"
     ]
    }
   ],
   "source": [
    "#Finding top gender via computing: \n",
    "nobel_by_gender = nobel.groupby('sex').count()\n",
    "top_gender = nobel_by_gender['year'].idxmax()  #storing this variable is a datacamp requirement\n",
    "print(top_gender + \" is the most awarded gender\")"
   ]
  },
  {
   "cell_type": "markdown",
   "metadata": {},
   "source": [
    "## Top country among laureates\n",
    "\n",
    "We do this by computation only since the sns.countplot had some many countries that it was impossible to see the values along the x axis."
   ]
  },
  {
   "cell_type": "code",
   "execution_count": 13,
   "metadata": {},
   "outputs": [
    {
     "data": {
      "text/plain": [
       "'United States of America'"
      ]
     },
     "execution_count": 13,
     "metadata": {},
     "output_type": "execute_result"
    }
   ],
   "source": [
    "#By computing\n",
    "nobel_by_birthcountry = nobel.groupby('birth_country').count()\n",
    "top_country = nobel_by_birthcountry['year'].idxmax() #storing this variable is a datacamp requirement\n",
    "top_country"
   ]
  },
  {
   "cell_type": "markdown",
   "metadata": {},
   "source": [
    "## US laureates"
   ]
  },
  {
   "cell_type": "code",
   "execution_count": 14,
   "metadata": {},
   "outputs": [],
   "source": [
    "decades_bin = [1899,1909,1919,1929,1939,1949,1959,1969,1979,1989,1999,2009,2019,2029]\n",
    "decades_labels = ['1900','1910','1920','1930','1940','1950','1969','1970','1980','1990','2000','2010','2020']\n",
    "\n",
    "nobel.loc[:,'decade'] = pd.cut(x = nobel['year'], bins=decades_bin, labels=decades_labels)"
   ]
  },
  {
   "cell_type": "code",
   "execution_count": 15,
   "metadata": {},
   "outputs": [
    {
     "data": {
      "text/html": [
       "<div>\n",
       "<style scoped>\n",
       "    .dataframe tbody tr th:only-of-type {\n",
       "        vertical-align: middle;\n",
       "    }\n",
       "\n",
       "    .dataframe tbody tr th {\n",
       "        vertical-align: top;\n",
       "    }\n",
       "\n",
       "    .dataframe thead th {\n",
       "        text-align: right;\n",
       "    }\n",
       "</style>\n",
       "<table border=\"1\" class=\"dataframe\">\n",
       "  <thead>\n",
       "    <tr style=\"text-align: right;\">\n",
       "      <th></th>\n",
       "      <th>year</th>\n",
       "      <th>category</th>\n",
       "      <th>prize</th>\n",
       "      <th>motivation</th>\n",
       "      <th>prize_share</th>\n",
       "      <th>laureate_id</th>\n",
       "      <th>laureate_type</th>\n",
       "      <th>full_name</th>\n",
       "      <th>birth_date</th>\n",
       "      <th>birth_city</th>\n",
       "      <th>birth_country</th>\n",
       "      <th>sex</th>\n",
       "      <th>organization_name</th>\n",
       "      <th>organization_city</th>\n",
       "      <th>organization_country</th>\n",
       "      <th>death_date</th>\n",
       "      <th>death_city</th>\n",
       "      <th>death_country</th>\n",
       "      <th>decade</th>\n",
       "    </tr>\n",
       "  </thead>\n",
       "  <tbody>\n",
       "    <tr>\n",
       "      <th>35</th>\n",
       "      <td>1906</td>\n",
       "      <td>Peace</td>\n",
       "      <td>The Nobel Peace Prize 1906</td>\n",
       "      <td>not given</td>\n",
       "      <td>1/1</td>\n",
       "      <td>470</td>\n",
       "      <td>Individual</td>\n",
       "      <td>Theodore Roosevelt</td>\n",
       "      <td>2024-11-14</td>\n",
       "      <td>New York, NY</td>\n",
       "      <td>United States of America</td>\n",
       "      <td>Male</td>\n",
       "      <td>not given</td>\n",
       "      <td>not given</td>\n",
       "      <td>not given</td>\n",
       "      <td>2024-11-14</td>\n",
       "      <td>Oyster Bay, NY</td>\n",
       "      <td>United States of America</td>\n",
       "      <td>1900</td>\n",
       "    </tr>\n",
       "    <tr>\n",
       "      <th>72</th>\n",
       "      <td>1912</td>\n",
       "      <td>Peace</td>\n",
       "      <td>The Nobel Peace Prize 1912</td>\n",
       "      <td>not given</td>\n",
       "      <td>1/1</td>\n",
       "      <td>480</td>\n",
       "      <td>Individual</td>\n",
       "      <td>Elihu Root</td>\n",
       "      <td>2024-11-14</td>\n",
       "      <td>Clinton, NY</td>\n",
       "      <td>United States of America</td>\n",
       "      <td>Male</td>\n",
       "      <td>not given</td>\n",
       "      <td>not given</td>\n",
       "      <td>not given</td>\n",
       "      <td>2024-11-14</td>\n",
       "      <td>New York, NY</td>\n",
       "      <td>United States of America</td>\n",
       "      <td>1910</td>\n",
       "    </tr>\n",
       "  </tbody>\n",
       "</table>\n",
       "</div>"
      ],
      "text/plain": [
       "    year category                       prize motivation prize_share  \\\n",
       "35  1906    Peace  The Nobel Peace Prize 1906  not given         1/1   \n",
       "72  1912    Peace  The Nobel Peace Prize 1912  not given         1/1   \n",
       "\n",
       "    laureate_id laureate_type           full_name  birth_date    birth_city  \\\n",
       "35          470    Individual  Theodore Roosevelt  2024-11-14  New York, NY   \n",
       "72          480    Individual          Elihu Root  2024-11-14   Clinton, NY   \n",
       "\n",
       "               birth_country   sex organization_name organization_city  \\\n",
       "35  United States of America  Male         not given         not given   \n",
       "72  United States of America  Male         not given         not given   \n",
       "\n",
       "   organization_country  death_date      death_city             death_country  \\\n",
       "35            not given  2024-11-14  Oyster Bay, NY  United States of America   \n",
       "72            not given  2024-11-14    New York, NY  United States of America   \n",
       "\n",
       "   decade  \n",
       "35   1900  \n",
       "72   1910  "
      ]
     },
     "execution_count": 15,
     "metadata": {},
     "output_type": "execute_result"
    }
   ],
   "source": [
    "#subsetting the rows of laureates from USA:\n",
    "nobel_us_laureate = nobel[ nobel[\"birth_country\"] == \"United States of America\"]\n",
    "nobel_us_laureate.sort_values(by=['year'], ascending=False)\n",
    "\n",
    "nobel_us_laureate.head(2)\n"
   ]
  },
  {
   "cell_type": "code",
   "execution_count": 16,
   "metadata": {},
   "outputs": [
    {
     "data": {
      "text/plain": [
       "<Axes: xlabel='count', ylabel='decade'>"
      ]
     },
     "execution_count": 16,
     "metadata": {},
     "output_type": "execute_result"
    },
    {
     "data": {
      "image/png": "[encoded data removed]",
      "text/plain": [
       "<Figure size 640x480 with 1 Axes>"
      ]
     },
     "metadata": {},
     "output_type": "display_data"
    }
   ],
   "source": [
    "sns.countplot(data = nobel_us_laureate, y='decade')"
   ]
  },
  {
   "cell_type": "code",
   "execution_count": 17,
   "metadata": {},
   "outputs": [],
   "source": [
    "max_decade_usa = '2000' #this variabel is a requirement from Datacamp"
   ]
  },
  {
   "cell_type": "code",
   "execution_count": 18,
   "metadata": {},
   "outputs": [],
   "source": [
    "#sns.histplot(data=nobel_us_laureate, bins=decades_bin)\n",
    "#countplot was better so leaving this out"
   ]
  },
  {
   "cell_type": "markdown",
   "metadata": {},
   "source": [
    "## Female ratio of Nobel laurates"
   ]
  },
  {
   "cell_type": "markdown",
   "metadata": {},
   "source": [
    "### The decade and category with the highest *ratio* of female laureates"
   ]
  },
  {
   "cell_type": "code",
   "execution_count": 19,
   "metadata": {},
   "outputs": [
    {
     "name": "stdout",
     "output_type": "stream",
     "text": [
      "{'2020': 'Literature'}\n"
     ]
    },
    {
     "name": "stderr",
     "output_type": "stream",
     "text": [
      "C:\\Users\\Lene-LiseDaniloff\\AppData\\Local\\Temp\\ipykernel_41616\\3246108540.py:2: FutureWarning: The default of observed=False is deprecated and will be changed to True in a future version of pandas. Pass observed=False to retain current behavior or observed=True to adopt the future default and silence this warning.\n",
      "  nobel_dec_cat_gen = nobel.groupby(['sex','decade', 'category']).count() #Group by gender, decade and category, and count occurrences\n",
      "C:\\Users\\Lene-LiseDaniloff\\AppData\\Local\\Temp\\ipykernel_41616\\3246108540.py:3: FutureWarning: The default of observed=False is deprecated and will be changed to True in a future version of pandas. Pass observed=False to retain current behavior or observed=True to adopt the future default and silence this warning.\n",
      "  nobel_dec_cat = nobel.groupby(['decade', 'category']).count() #Group by decade and category (not gender), and count occurences\n"
     ]
    }
   ],
   "source": [
    "## Highest ratio of female \n",
    "nobel_dec_cat_gen = nobel.groupby(['sex','decade', 'category']).count() #Group by gender, decade and category, and count occurrences\n",
    "nobel_dec_cat = nobel.groupby(['decade', 'category']).count() #Group by decade and category (not gender), and count occurences\n",
    "nobel_dec_cat_gen = nobel_dec_cat_gen.loc['Female'] #separate out the rows with females\n",
    "nobel_dec_cat[\"female_ratio\"] = nobel_dec_cat_gen['year'] / nobel_dec_cat['year'] #calculate female ratio per decade + category, and add to nobel_dec_cat\n",
    "\n",
    "max_female = nobel_dec_cat['female_ratio'].idxmax() #find the maximum\n",
    "max_female_dict = {max_female[0]:max_female[1]} #this variable is a requirement from DataCamp\n",
    "print(max_female_dict)"
   ]
  },
  {
   "cell_type": "code",
   "execution_count": 20,
   "metadata": {},
   "outputs": [
    {
     "data": {
      "text/html": [
       "<div>\n",
       "<style scoped>\n",
       "    .dataframe tbody tr th:only-of-type {\n",
       "        vertical-align: middle;\n",
       "    }\n",
       "\n",
       "    .dataframe tbody tr th {\n",
       "        vertical-align: top;\n",
       "    }\n",
       "\n",
       "    .dataframe thead th {\n",
       "        text-align: right;\n",
       "    }\n",
       "</style>\n",
       "<table border=\"1\" class=\"dataframe\">\n",
       "  <thead>\n",
       "    <tr style=\"text-align: right;\">\n",
       "      <th></th>\n",
       "      <th></th>\n",
       "      <th>year</th>\n",
       "      <th>prize</th>\n",
       "      <th>motivation</th>\n",
       "      <th>prize_share</th>\n",
       "      <th>laureate_id</th>\n",
       "      <th>laureate_type</th>\n",
       "      <th>full_name</th>\n",
       "      <th>birth_date</th>\n",
       "      <th>birth_city</th>\n",
       "      <th>birth_country</th>\n",
       "      <th>sex</th>\n",
       "      <th>organization_name</th>\n",
       "      <th>organization_city</th>\n",
       "      <th>organization_country</th>\n",
       "      <th>death_date</th>\n",
       "      <th>death_city</th>\n",
       "      <th>death_country</th>\n",
       "      <th>female_ratio</th>\n",
       "    </tr>\n",
       "    <tr>\n",
       "      <th>decade</th>\n",
       "      <th>category</th>\n",
       "      <th></th>\n",
       "      <th></th>\n",
       "      <th></th>\n",
       "      <th></th>\n",
       "      <th></th>\n",
       "      <th></th>\n",
       "      <th></th>\n",
       "      <th></th>\n",
       "      <th></th>\n",
       "      <th></th>\n",
       "      <th></th>\n",
       "      <th></th>\n",
       "      <th></th>\n",
       "      <th></th>\n",
       "      <th></th>\n",
       "      <th></th>\n",
       "      <th></th>\n",
       "      <th></th>\n",
       "    </tr>\n",
       "  </thead>\n",
       "  <tbody>\n",
       "    <tr>\n",
       "      <th rowspan=\"5\" valign=\"top\">1900</th>\n",
       "      <th>Chemistry</th>\n",
       "      <td>9</td>\n",
       "      <td>9</td>\n",
       "      <td>9</td>\n",
       "      <td>9</td>\n",
       "      <td>9</td>\n",
       "      <td>9</td>\n",
       "      <td>9</td>\n",
       "      <td>9</td>\n",
       "      <td>9</td>\n",
       "      <td>9</td>\n",
       "      <td>9</td>\n",
       "      <td>9</td>\n",
       "      <td>9</td>\n",
       "      <td>9</td>\n",
       "      <td>9</td>\n",
       "      <td>9</td>\n",
       "      <td>9</td>\n",
       "      <td>0.000000</td>\n",
       "    </tr>\n",
       "    <tr>\n",
       "      <th>Economics</th>\n",
       "      <td>0</td>\n",
       "      <td>0</td>\n",
       "      <td>0</td>\n",
       "      <td>0</td>\n",
       "      <td>0</td>\n",
       "      <td>0</td>\n",
       "      <td>0</td>\n",
       "      <td>0</td>\n",
       "      <td>0</td>\n",
       "      <td>0</td>\n",
       "      <td>0</td>\n",
       "      <td>0</td>\n",
       "      <td>0</td>\n",
       "      <td>0</td>\n",
       "      <td>0</td>\n",
       "      <td>0</td>\n",
       "      <td>0</td>\n",
       "      <td>NaN</td>\n",
       "    </tr>\n",
       "    <tr>\n",
       "      <th>Literature</th>\n",
       "      <td>10</td>\n",
       "      <td>10</td>\n",
       "      <td>10</td>\n",
       "      <td>10</td>\n",
       "      <td>10</td>\n",
       "      <td>10</td>\n",
       "      <td>10</td>\n",
       "      <td>10</td>\n",
       "      <td>10</td>\n",
       "      <td>10</td>\n",
       "      <td>10</td>\n",
       "      <td>10</td>\n",
       "      <td>10</td>\n",
       "      <td>10</td>\n",
       "      <td>10</td>\n",
       "      <td>10</td>\n",
       "      <td>10</td>\n",
       "      <td>0.100000</td>\n",
       "    </tr>\n",
       "    <tr>\n",
       "      <th>Medicine</th>\n",
       "      <td>11</td>\n",
       "      <td>11</td>\n",
       "      <td>11</td>\n",
       "      <td>11</td>\n",
       "      <td>11</td>\n",
       "      <td>11</td>\n",
       "      <td>11</td>\n",
       "      <td>11</td>\n",
       "      <td>11</td>\n",
       "      <td>11</td>\n",
       "      <td>11</td>\n",
       "      <td>11</td>\n",
       "      <td>11</td>\n",
       "      <td>11</td>\n",
       "      <td>11</td>\n",
       "      <td>11</td>\n",
       "      <td>11</td>\n",
       "      <td>0.000000</td>\n",
       "    </tr>\n",
       "    <tr>\n",
       "      <th>Peace</th>\n",
       "      <td>14</td>\n",
       "      <td>14</td>\n",
       "      <td>14</td>\n",
       "      <td>14</td>\n",
       "      <td>14</td>\n",
       "      <td>14</td>\n",
       "      <td>14</td>\n",
       "      <td>14</td>\n",
       "      <td>14</td>\n",
       "      <td>14</td>\n",
       "      <td>14</td>\n",
       "      <td>14</td>\n",
       "      <td>14</td>\n",
       "      <td>14</td>\n",
       "      <td>14</td>\n",
       "      <td>14</td>\n",
       "      <td>14</td>\n",
       "      <td>0.071429</td>\n",
       "    </tr>\n",
       "  </tbody>\n",
       "</table>\n",
       "</div>"
      ],
      "text/plain": [
       "                   year  prize  motivation  prize_share  laureate_id  \\\n",
       "decade category                                                        \n",
       "1900   Chemistry      9      9           9            9            9   \n",
       "       Economics      0      0           0            0            0   \n",
       "       Literature    10     10          10           10           10   \n",
       "       Medicine      11     11          11           11           11   \n",
       "       Peace         14     14          14           14           14   \n",
       "\n",
       "                   laureate_type  full_name  birth_date  birth_city  \\\n",
       "decade category                                                       \n",
       "1900   Chemistry               9          9           9           9   \n",
       "       Economics               0          0           0           0   \n",
       "       Literature             10         10          10          10   \n",
       "       Medicine               11         11          11          11   \n",
       "       Peace                  14         14          14          14   \n",
       "\n",
       "                   birth_country  sex  organization_name  organization_city  \\\n",
       "decade category                                                               \n",
       "1900   Chemistry               9    9                  9                  9   \n",
       "       Economics               0    0                  0                  0   \n",
       "       Literature             10   10                 10                 10   \n",
       "       Medicine               11   11                 11                 11   \n",
       "       Peace                  14   14                 14                 14   \n",
       "\n",
       "                   organization_country  death_date  death_city  \\\n",
       "decade category                                                   \n",
       "1900   Chemistry                      9           9           9   \n",
       "       Economics                      0           0           0   \n",
       "       Literature                    10          10          10   \n",
       "       Medicine                      11          11          11   \n",
       "       Peace                         14          14          14   \n",
       "\n",
       "                   death_country  female_ratio  \n",
       "decade category                                 \n",
       "1900   Chemistry               9      0.000000  \n",
       "       Economics               0           NaN  \n",
       "       Literature             10      0.100000  \n",
       "       Medicine               11      0.000000  \n",
       "       Peace                  14      0.071429  "
      ]
     },
     "execution_count": 20,
     "metadata": {},
     "output_type": "execute_result"
    }
   ],
   "source": [
    "nobel_dec_cat.head()"
   ]
  },
  {
   "cell_type": "code",
   "execution_count": 21,
   "metadata": {},
   "outputs": [
    {
     "data": {
      "text/plain": [
       "<Axes: xlabel='decade', ylabel='female_ratio'>"
      ]
     },
     "execution_count": 21,
     "metadata": {},
     "output_type": "execute_result"
    },
    {
     "data": {
      "image/png": "[encoded data removed]",
      "text/plain": [
       "<Figure size 640x480 with 1 Axes>"
      ]
     },
     "metadata": {},
     "output_type": "display_data"
    }
   ],
   "source": [
    "#Just trying out a plot to see if we can see which decade had the highest female ratio, and how it has developed over time\n",
    "sns.scatterplot(data=nobel_dec_cat, y='female_ratio', x='decade')"
   ]
  },
  {
   "cell_type": "code",
   "execution_count": 22,
   "metadata": {},
   "outputs": [
    {
     "data": {
      "text/plain": [
       "<Axes: xlabel='category', ylabel='female_ratio'>"
      ]
     },
     "execution_count": 22,
     "metadata": {},
     "output_type": "execute_result"
    },
    {
     "data": {
      "image/png": "[encoded data removed]",
      "text/plain": [
       "<Figure size 640x480 with 1 Axes>"
      ]
     },
     "metadata": {},
     "output_type": "display_data"
    }
   ],
   "source": [
    "sns.scatterplot(data=nobel_dec_cat, y='female_ratio', x='category')"
   ]
  },
  {
   "cell_type": "markdown",
   "metadata": {},
   "source": [
    "### Female ratio each decade\n",
    "Lets say we want to visualize the female ratio of laureates across categories. "
   ]
  },
  {
   "cell_type": "code",
   "execution_count": 23,
   "metadata": {},
   "outputs": [
    {
     "name": "stderr",
     "output_type": "stream",
     "text": [
      "C:\\Users\\Lene-LiseDaniloff\\AppData\\Local\\Temp\\ipykernel_41616\\2469683849.py:1: FutureWarning: The default of observed=False is deprecated and will be changed to True in a future version of pandas. Pass observed=False to retain current behavior or observed=True to adopt the future default and silence this warning.\n",
      "  nobel_year = nobel.groupby('decade').count()\n",
      "C:\\Users\\Lene-LiseDaniloff\\AppData\\Local\\Temp\\ipykernel_41616\\2469683849.py:2: FutureWarning: The default of observed=False is deprecated and will be changed to True in a future version of pandas. Pass observed=False to retain current behavior or observed=True to adopt the future default and silence this warning.\n",
      "  nobel_female_year = nobel.groupby(['sex', 'decade']).count()\n"
     ]
    }
   ],
   "source": [
    "nobel_year = nobel.groupby('decade').count()\n",
    "nobel_female_year = nobel.groupby(['sex', 'decade']).count()\n",
    "nobel_female_year = nobel_female_year.loc['Female']\n",
    "nobel_year['female_ratio'] = nobel_female_year['category']/nobel_year['category']\n",
    "#nobel_year.head()"
   ]
  },
  {
   "cell_type": "code",
   "execution_count": 24,
   "metadata": {},
   "outputs": [
    {
     "data": {
      "text/plain": [
       "<Axes: xlabel='decade', ylabel='female_ratio'>"
      ]
     },
     "execution_count": 24,
     "metadata": {},
     "output_type": "execute_result"
    },
    {
     "data": {
      "image/png": "[encoded data removed]",
      "text/plain": [
       "<Figure size 640x480 with 1 Axes>"
      ]
     },
     "metadata": {},
     "output_type": "display_data"
    }
   ],
   "source": [
    "sns.barplot(data=nobel_year, x='decade', y='female_ratio')"
   ]
  },
  {
   "cell_type": "markdown",
   "metadata": {},
   "source": [
    "### Female ratio across categories\n"
   ]
  },
  {
   "cell_type": "code",
   "execution_count": 25,
   "metadata": {},
   "outputs": [
    {
     "name": "stderr",
     "output_type": "stream",
     "text": [
      "C:\\Users\\Lene-LiseDaniloff\\AppData\\Local\\Temp\\ipykernel_41616\\3257128468.py:1: FutureWarning: The default of observed=False is deprecated and will be changed to True in a future version of pandas. Pass observed=False to retain current behavior or observed=True to adopt the future default and silence this warning.\n",
      "  nobel_cat_gen = nobel.groupby(['sex', 'category']).count()\n",
      "C:\\Users\\Lene-LiseDaniloff\\AppData\\Local\\Temp\\ipykernel_41616\\3257128468.py:2: FutureWarning: The default of observed=False is deprecated and will be changed to True in a future version of pandas. Pass observed=False to retain current behavior or observed=True to adopt the future default and silence this warning.\n",
      "  nobel_cat = nobel.groupby('category').count()\n"
     ]
    },
    {
     "data": {
      "text/html": [
       "<div>\n",
       "<style scoped>\n",
       "    .dataframe tbody tr th:only-of-type {\n",
       "        vertical-align: middle;\n",
       "    }\n",
       "\n",
       "    .dataframe tbody tr th {\n",
       "        vertical-align: top;\n",
       "    }\n",
       "\n",
       "    .dataframe thead th {\n",
       "        text-align: right;\n",
       "    }\n",
       "</style>\n",
       "<table border=\"1\" class=\"dataframe\">\n",
       "  <thead>\n",
       "    <tr style=\"text-align: right;\">\n",
       "      <th></th>\n",
       "      <th>year</th>\n",
       "      <th>prize</th>\n",
       "      <th>motivation</th>\n",
       "      <th>prize_share</th>\n",
       "      <th>laureate_id</th>\n",
       "      <th>laureate_type</th>\n",
       "      <th>full_name</th>\n",
       "      <th>birth_date</th>\n",
       "      <th>birth_city</th>\n",
       "      <th>birth_country</th>\n",
       "      <th>organization_name</th>\n",
       "      <th>organization_city</th>\n",
       "      <th>organization_country</th>\n",
       "      <th>death_date</th>\n",
       "      <th>death_city</th>\n",
       "      <th>death_country</th>\n",
       "      <th>decade</th>\n",
       "    </tr>\n",
       "    <tr>\n",
       "      <th>category</th>\n",
       "      <th></th>\n",
       "      <th></th>\n",
       "      <th></th>\n",
       "      <th></th>\n",
       "      <th></th>\n",
       "      <th></th>\n",
       "      <th></th>\n",
       "      <th></th>\n",
       "      <th></th>\n",
       "      <th></th>\n",
       "      <th></th>\n",
       "      <th></th>\n",
       "      <th></th>\n",
       "      <th></th>\n",
       "      <th></th>\n",
       "      <th></th>\n",
       "      <th></th>\n",
       "    </tr>\n",
       "  </thead>\n",
       "  <tbody>\n",
       "    <tr>\n",
       "      <th>Chemistry</th>\n",
       "      <td>8</td>\n",
       "      <td>8</td>\n",
       "      <td>8</td>\n",
       "      <td>8</td>\n",
       "      <td>8</td>\n",
       "      <td>8</td>\n",
       "      <td>8</td>\n",
       "      <td>8</td>\n",
       "      <td>8</td>\n",
       "      <td>8</td>\n",
       "      <td>8</td>\n",
       "      <td>8</td>\n",
       "      <td>8</td>\n",
       "      <td>8</td>\n",
       "      <td>8</td>\n",
       "      <td>8</td>\n",
       "      <td>8</td>\n",
       "    </tr>\n",
       "    <tr>\n",
       "      <th>Economics</th>\n",
       "      <td>3</td>\n",
       "      <td>3</td>\n",
       "      <td>3</td>\n",
       "      <td>3</td>\n",
       "      <td>3</td>\n",
       "      <td>3</td>\n",
       "      <td>3</td>\n",
       "      <td>3</td>\n",
       "      <td>3</td>\n",
       "      <td>3</td>\n",
       "      <td>3</td>\n",
       "      <td>3</td>\n",
       "      <td>3</td>\n",
       "      <td>3</td>\n",
       "      <td>3</td>\n",
       "      <td>3</td>\n",
       "      <td>3</td>\n",
       "    </tr>\n",
       "    <tr>\n",
       "      <th>Literature</th>\n",
       "      <td>17</td>\n",
       "      <td>17</td>\n",
       "      <td>17</td>\n",
       "      <td>17</td>\n",
       "      <td>17</td>\n",
       "      <td>17</td>\n",
       "      <td>17</td>\n",
       "      <td>17</td>\n",
       "      <td>17</td>\n",
       "      <td>17</td>\n",
       "      <td>17</td>\n",
       "      <td>17</td>\n",
       "      <td>17</td>\n",
       "      <td>17</td>\n",
       "      <td>17</td>\n",
       "      <td>17</td>\n",
       "      <td>17</td>\n",
       "    </tr>\n",
       "    <tr>\n",
       "      <th>Medicine</th>\n",
       "      <td>13</td>\n",
       "      <td>13</td>\n",
       "      <td>13</td>\n",
       "      <td>13</td>\n",
       "      <td>13</td>\n",
       "      <td>13</td>\n",
       "      <td>13</td>\n",
       "      <td>13</td>\n",
       "      <td>13</td>\n",
       "      <td>13</td>\n",
       "      <td>13</td>\n",
       "      <td>13</td>\n",
       "      <td>13</td>\n",
       "      <td>13</td>\n",
       "      <td>13</td>\n",
       "      <td>13</td>\n",
       "      <td>13</td>\n",
       "    </tr>\n",
       "    <tr>\n",
       "      <th>Peace</th>\n",
       "      <td>19</td>\n",
       "      <td>19</td>\n",
       "      <td>19</td>\n",
       "      <td>19</td>\n",
       "      <td>19</td>\n",
       "      <td>19</td>\n",
       "      <td>19</td>\n",
       "      <td>19</td>\n",
       "      <td>19</td>\n",
       "      <td>19</td>\n",
       "      <td>19</td>\n",
       "      <td>19</td>\n",
       "      <td>19</td>\n",
       "      <td>19</td>\n",
       "      <td>19</td>\n",
       "      <td>19</td>\n",
       "      <td>19</td>\n",
       "    </tr>\n",
       "    <tr>\n",
       "      <th>Physics</th>\n",
       "      <td>5</td>\n",
       "      <td>5</td>\n",
       "      <td>5</td>\n",
       "      <td>5</td>\n",
       "      <td>5</td>\n",
       "      <td>5</td>\n",
       "      <td>5</td>\n",
       "      <td>5</td>\n",
       "      <td>5</td>\n",
       "      <td>5</td>\n",
       "      <td>5</td>\n",
       "      <td>5</td>\n",
       "      <td>5</td>\n",
       "      <td>5</td>\n",
       "      <td>5</td>\n",
       "      <td>5</td>\n",
       "      <td>5</td>\n",
       "    </tr>\n",
       "  </tbody>\n",
       "</table>\n",
       "</div>"
      ],
      "text/plain": [
       "            year  prize  motivation  prize_share  laureate_id  laureate_type  \\\n",
       "category                                                                       \n",
       "Chemistry      8      8           8            8            8              8   \n",
       "Economics      3      3           3            3            3              3   \n",
       "Literature    17     17          17           17           17             17   \n",
       "Medicine      13     13          13           13           13             13   \n",
       "Peace         19     19          19           19           19             19   \n",
       "Physics        5      5           5            5            5              5   \n",
       "\n",
       "            full_name  birth_date  birth_city  birth_country  \\\n",
       "category                                                       \n",
       "Chemistry           8           8           8              8   \n",
       "Economics           3           3           3              3   \n",
       "Literature         17          17          17             17   \n",
       "Medicine           13          13          13             13   \n",
       "Peace              19          19          19             19   \n",
       "Physics             5           5           5              5   \n",
       "\n",
       "            organization_name  organization_city  organization_country  \\\n",
       "category                                                                 \n",
       "Chemistry                   8                  8                     8   \n",
       "Economics                   3                  3                     3   \n",
       "Literature                 17                 17                    17   \n",
       "Medicine                   13                 13                    13   \n",
       "Peace                      19                 19                    19   \n",
       "Physics                     5                  5                     5   \n",
       "\n",
       "            death_date  death_city  death_country  decade  \n",
       "category                                                   \n",
       "Chemistry            8           8              8       8  \n",
       "Economics            3           3              3       3  \n",
       "Literature          17          17             17      17  \n",
       "Medicine            13          13             13      13  \n",
       "Peace               19          19             19      19  \n",
       "Physics              5           5              5       5  "
      ]
     },
     "execution_count": 25,
     "metadata": {},
     "output_type": "execute_result"
    }
   ],
   "source": [
    "nobel_cat_gen = nobel.groupby(['sex', 'category']).count()\n",
    "nobel_cat = nobel.groupby('category').count()\n",
    "nobel_cat_gen = nobel_cat_gen.loc['Female']\n",
    "nobel_cat_gen"
   ]
  },
  {
   "cell_type": "code",
   "execution_count": 26,
   "metadata": {},
   "outputs": [
    {
     "data": {
      "text/html": [
       "<div>\n",
       "<style scoped>\n",
       "    .dataframe tbody tr th:only-of-type {\n",
       "        vertical-align: middle;\n",
       "    }\n",
       "\n",
       "    .dataframe tbody tr th {\n",
       "        vertical-align: top;\n",
       "    }\n",
       "\n",
       "    .dataframe thead th {\n",
       "        text-align: right;\n",
       "    }\n",
       "</style>\n",
       "<table border=\"1\" class=\"dataframe\">\n",
       "  <thead>\n",
       "    <tr style=\"text-align: right;\">\n",
       "      <th></th>\n",
       "      <th>year</th>\n",
       "      <th>prize</th>\n",
       "      <th>motivation</th>\n",
       "      <th>prize_share</th>\n",
       "      <th>laureate_id</th>\n",
       "      <th>laureate_type</th>\n",
       "      <th>full_name</th>\n",
       "      <th>birth_date</th>\n",
       "      <th>birth_city</th>\n",
       "      <th>birth_country</th>\n",
       "      <th>sex</th>\n",
       "      <th>organization_name</th>\n",
       "      <th>organization_city</th>\n",
       "      <th>organization_country</th>\n",
       "      <th>death_date</th>\n",
       "      <th>death_city</th>\n",
       "      <th>death_country</th>\n",
       "      <th>decade</th>\n",
       "      <th>female_ratio</th>\n",
       "    </tr>\n",
       "    <tr>\n",
       "      <th>category</th>\n",
       "      <th></th>\n",
       "      <th></th>\n",
       "      <th></th>\n",
       "      <th></th>\n",
       "      <th></th>\n",
       "      <th></th>\n",
       "      <th></th>\n",
       "      <th></th>\n",
       "      <th></th>\n",
       "      <th></th>\n",
       "      <th></th>\n",
       "      <th></th>\n",
       "      <th></th>\n",
       "      <th></th>\n",
       "      <th></th>\n",
       "      <th></th>\n",
       "      <th></th>\n",
       "      <th></th>\n",
       "      <th></th>\n",
       "    </tr>\n",
       "  </thead>\n",
       "  <tbody>\n",
       "    <tr>\n",
       "      <th>Chemistry</th>\n",
       "      <td>194</td>\n",
       "      <td>194</td>\n",
       "      <td>194</td>\n",
       "      <td>194</td>\n",
       "      <td>194</td>\n",
       "      <td>194</td>\n",
       "      <td>194</td>\n",
       "      <td>194</td>\n",
       "      <td>194</td>\n",
       "      <td>194</td>\n",
       "      <td>194</td>\n",
       "      <td>194</td>\n",
       "      <td>194</td>\n",
       "      <td>194</td>\n",
       "      <td>194</td>\n",
       "      <td>194</td>\n",
       "      <td>194</td>\n",
       "      <td>194</td>\n",
       "      <td>0.041237</td>\n",
       "    </tr>\n",
       "    <tr>\n",
       "      <th>Economics</th>\n",
       "      <td>93</td>\n",
       "      <td>93</td>\n",
       "      <td>93</td>\n",
       "      <td>93</td>\n",
       "      <td>93</td>\n",
       "      <td>93</td>\n",
       "      <td>93</td>\n",
       "      <td>93</td>\n",
       "      <td>93</td>\n",
       "      <td>93</td>\n",
       "      <td>93</td>\n",
       "      <td>93</td>\n",
       "      <td>93</td>\n",
       "      <td>93</td>\n",
       "      <td>93</td>\n",
       "      <td>93</td>\n",
       "      <td>93</td>\n",
       "      <td>93</td>\n",
       "      <td>0.032258</td>\n",
       "    </tr>\n",
       "    <tr>\n",
       "      <th>Literature</th>\n",
       "      <td>120</td>\n",
       "      <td>120</td>\n",
       "      <td>120</td>\n",
       "      <td>120</td>\n",
       "      <td>120</td>\n",
       "      <td>120</td>\n",
       "      <td>120</td>\n",
       "      <td>120</td>\n",
       "      <td>120</td>\n",
       "      <td>120</td>\n",
       "      <td>120</td>\n",
       "      <td>120</td>\n",
       "      <td>120</td>\n",
       "      <td>120</td>\n",
       "      <td>120</td>\n",
       "      <td>120</td>\n",
       "      <td>120</td>\n",
       "      <td>120</td>\n",
       "      <td>0.141667</td>\n",
       "    </tr>\n",
       "    <tr>\n",
       "      <th>Medicine</th>\n",
       "      <td>227</td>\n",
       "      <td>227</td>\n",
       "      <td>227</td>\n",
       "      <td>227</td>\n",
       "      <td>227</td>\n",
       "      <td>227</td>\n",
       "      <td>227</td>\n",
       "      <td>227</td>\n",
       "      <td>227</td>\n",
       "      <td>227</td>\n",
       "      <td>227</td>\n",
       "      <td>227</td>\n",
       "      <td>227</td>\n",
       "      <td>227</td>\n",
       "      <td>227</td>\n",
       "      <td>227</td>\n",
       "      <td>227</td>\n",
       "      <td>227</td>\n",
       "      <td>0.057269</td>\n",
       "    </tr>\n",
       "    <tr>\n",
       "      <th>Peace</th>\n",
       "      <td>141</td>\n",
       "      <td>141</td>\n",
       "      <td>141</td>\n",
       "      <td>141</td>\n",
       "      <td>141</td>\n",
       "      <td>141</td>\n",
       "      <td>141</td>\n",
       "      <td>141</td>\n",
       "      <td>141</td>\n",
       "      <td>141</td>\n",
       "      <td>141</td>\n",
       "      <td>141</td>\n",
       "      <td>141</td>\n",
       "      <td>141</td>\n",
       "      <td>141</td>\n",
       "      <td>141</td>\n",
       "      <td>141</td>\n",
       "      <td>141</td>\n",
       "      <td>0.134752</td>\n",
       "    </tr>\n",
       "    <tr>\n",
       "      <th>Physics</th>\n",
       "      <td>225</td>\n",
       "      <td>225</td>\n",
       "      <td>225</td>\n",
       "      <td>225</td>\n",
       "      <td>225</td>\n",
       "      <td>225</td>\n",
       "      <td>225</td>\n",
       "      <td>225</td>\n",
       "      <td>225</td>\n",
       "      <td>225</td>\n",
       "      <td>225</td>\n",
       "      <td>225</td>\n",
       "      <td>225</td>\n",
       "      <td>225</td>\n",
       "      <td>225</td>\n",
       "      <td>225</td>\n",
       "      <td>225</td>\n",
       "      <td>225</td>\n",
       "      <td>0.022222</td>\n",
       "    </tr>\n",
       "  </tbody>\n",
       "</table>\n",
       "</div>"
      ],
      "text/plain": [
       "            year  prize  motivation  prize_share  laureate_id  laureate_type  \\\n",
       "category                                                                       \n",
       "Chemistry    194    194         194          194          194            194   \n",
       "Economics     93     93          93           93           93             93   \n",
       "Literature   120    120         120          120          120            120   \n",
       "Medicine     227    227         227          227          227            227   \n",
       "Peace        141    141         141          141          141            141   \n",
       "Physics      225    225         225          225          225            225   \n",
       "\n",
       "            full_name  birth_date  birth_city  birth_country  sex  \\\n",
       "category                                                            \n",
       "Chemistry         194         194         194            194  194   \n",
       "Economics          93          93          93             93   93   \n",
       "Literature        120         120         120            120  120   \n",
       "Medicine          227         227         227            227  227   \n",
       "Peace             141         141         141            141  141   \n",
       "Physics           225         225         225            225  225   \n",
       "\n",
       "            organization_name  organization_city  organization_country  \\\n",
       "category                                                                 \n",
       "Chemistry                 194                194                   194   \n",
       "Economics                  93                 93                    93   \n",
       "Literature                120                120                   120   \n",
       "Medicine                  227                227                   227   \n",
       "Peace                     141                141                   141   \n",
       "Physics                   225                225                   225   \n",
       "\n",
       "            death_date  death_city  death_country  decade  female_ratio  \n",
       "category                                                                 \n",
       "Chemistry          194         194            194     194      0.041237  \n",
       "Economics           93          93             93      93      0.032258  \n",
       "Literature         120         120            120     120      0.141667  \n",
       "Medicine           227         227            227     227      0.057269  \n",
       "Peace              141         141            141     141      0.134752  \n",
       "Physics            225         225            225     225      0.022222  "
      ]
     },
     "execution_count": 26,
     "metadata": {},
     "output_type": "execute_result"
    }
   ],
   "source": [
    "nobel_cat['female_ratio'] = nobel_cat_gen['year'] / nobel_cat['year']\n",
    "nobel_cat"
   ]
  },
  {
   "cell_type": "code",
   "execution_count": 44,
   "metadata": {},
   "outputs": [
    {
     "data": {
      "image/png": "[encoded data removed]",
      "text/plain": [
       "<Figure size 640x480 with 1 Axes>"
      ]
     },
     "metadata": {},
     "output_type": "display_data"
    }
   ],
   "source": [
    "p = sns.barplot(data=nobel_cat, x='category', y='female_ratio')"
   ]
  },
  {
   "cell_type": "markdown",
   "metadata": {},
   "source": [
    "### First female winner \n",
    "\n",
    "Who was the first woman to receive a Nobel Prize, and in what category? Save your string answers as first_woman_name and first_woman_category."
   ]
  },
  {
   "cell_type": "code",
   "execution_count": null,
   "metadata": {},
   "outputs": [
    {
     "data": {
      "text/html": [
       "<div>\n",
       "<style scoped>\n",
       "    .dataframe tbody tr th:only-of-type {\n",
       "        vertical-align: middle;\n",
       "    }\n",
       "\n",
       "    .dataframe tbody tr th {\n",
       "        vertical-align: top;\n",
       "    }\n",
       "\n",
       "    .dataframe thead th {\n",
       "        text-align: right;\n",
       "    }\n",
       "</style>\n",
       "<table border=\"1\" class=\"dataframe\">\n",
       "  <thead>\n",
       "    <tr style=\"text-align: right;\">\n",
       "      <th></th>\n",
       "      <th>year</th>\n",
       "      <th>category</th>\n",
       "      <th>prize</th>\n",
       "      <th>motivation</th>\n",
       "      <th>prize_share</th>\n",
       "      <th>laureate_id</th>\n",
       "      <th>laureate_type</th>\n",
       "      <th>full_name</th>\n",
       "      <th>birth_date</th>\n",
       "      <th>birth_city</th>\n",
       "      <th>birth_country</th>\n",
       "      <th>sex</th>\n",
       "      <th>organization_name</th>\n",
       "      <th>organization_city</th>\n",
       "      <th>organization_country</th>\n",
       "      <th>death_date</th>\n",
       "      <th>death_city</th>\n",
       "      <th>death_country</th>\n",
       "      <th>decade</th>\n",
       "    </tr>\n",
       "  </thead>\n",
       "  <tbody>\n",
       "    <tr>\n",
       "      <th>0</th>\n",
       "      <td>1901</td>\n",
       "      <td>Chemistry</td>\n",
       "      <td>The Nobel Prize in Chemistry 1901</td>\n",
       "      <td>\"in recognition of the extraordinary services ...</td>\n",
       "      <td>1/1</td>\n",
       "      <td>160</td>\n",
       "      <td>Individual</td>\n",
       "      <td>Jacobus Henricus van 't Hoff</td>\n",
       "      <td>2024-11-13</td>\n",
       "      <td>Rotterdam</td>\n",
       "      <td>Netherlands</td>\n",
       "      <td>Male</td>\n",
       "      <td>Berlin University</td>\n",
       "      <td>Berlin</td>\n",
       "      <td>Germany</td>\n",
       "      <td>2024-11-13</td>\n",
       "      <td>Berlin</td>\n",
       "      <td>Germany</td>\n",
       "      <td>1900</td>\n",
       "    </tr>\n",
       "    <tr>\n",
       "      <th>1</th>\n",
       "      <td>1901</td>\n",
       "      <td>Literature</td>\n",
       "      <td>The Nobel Prize in Literature 1901</td>\n",
       "      <td>\"in special recognition of his poetic composit...</td>\n",
       "      <td>1/1</td>\n",
       "      <td>569</td>\n",
       "      <td>Individual</td>\n",
       "      <td>Sully Prudhomme</td>\n",
       "      <td>2024-11-13</td>\n",
       "      <td>Paris</td>\n",
       "      <td>France</td>\n",
       "      <td>Male</td>\n",
       "      <td>not given</td>\n",
       "      <td>not given</td>\n",
       "      <td>not given</td>\n",
       "      <td>2024-11-13</td>\n",
       "      <td>Châtenay</td>\n",
       "      <td>France</td>\n",
       "      <td>1900</td>\n",
       "    </tr>\n",
       "  </tbody>\n",
       "</table>\n",
       "</div>"
      ],
      "text/plain": [
       "   year    category                               prize  \\\n",
       "0  1901   Chemistry   The Nobel Prize in Chemistry 1901   \n",
       "1  1901  Literature  The Nobel Prize in Literature 1901   \n",
       "\n",
       "                                          motivation prize_share  laureate_id  \\\n",
       "0  \"in recognition of the extraordinary services ...         1/1          160   \n",
       "1  \"in special recognition of his poetic composit...         1/1          569   \n",
       "\n",
       "  laureate_type                     full_name  birth_date birth_city  \\\n",
       "0    Individual  Jacobus Henricus van 't Hoff  2024-11-13  Rotterdam   \n",
       "1    Individual               Sully Prudhomme  2024-11-13      Paris   \n",
       "\n",
       "  birth_country   sex  organization_name organization_city  \\\n",
       "0   Netherlands  Male  Berlin University            Berlin   \n",
       "1        France  Male          not given         not given   \n",
       "\n",
       "  organization_country  death_date death_city death_country decade  \n",
       "0              Germany  2024-11-13     Berlin       Germany   1900  \n",
       "1            not given  2024-11-13   Châtenay        France   1900  "
      ]
     },
     "execution_count": 169,
     "metadata": {},
     "output_type": "execute_result"
    }
   ],
   "source": [
    "nobel.head(2)"
   ]
  },
  {
   "cell_type": "code",
   "execution_count": null,
   "metadata": {},
   "outputs": [
    {
     "name": "stdout",
     "output_type": "stream",
     "text": [
      "0\n",
      "Marie Curie, née Sklodowska, Physics\n"
     ]
    }
   ],
   "source": [
    "nobel_female = nobel[nobel['sex']=='Female'].reset_index(drop=True) #subsetting the rows of female laurates\n",
    "first_woman_name = nobel_female.iloc[nobel_female['year'].idxmin()]#this variable is a datacamp requirement\n",
    "first_woman_name = nobel_female.iloc[nobel_female['year'].idxmin()]['full_name'] #this variable is a datacamp requirement\n",
    "first_woman_category = nobel_female.iloc[nobel_female['year'].idxmin()]['category'] #this variable is a datacamp requirement\n",
    "print(first_woman_name + \", \" + first_woman_category)\n"
   ]
  },
  {
   "cell_type": "markdown",
   "metadata": {},
   "source": [
    "### Women and Nobel prizes - short summary of findings\n",
    "\n",
    "We have seen that it is far more common for a woman to win a Nobel prize in literature or peace. \n",
    "\n",
    "We have also seen that the overall ratio of female Nobel prize winners (across categories) has been low since the start, but that the ratio has increased every decade since 1990. \n",
    "\n",
    "An all time minimum happened in 1950, when there were no female laurates at all in either category. "
   ]
  },
  {
   "cell_type": "markdown",
   "metadata": {},
   "source": [
    "## Individuals and/or organizations with more than one win"
   ]
  },
  {
   "cell_type": "code",
   "execution_count": 78,
   "metadata": {},
   "outputs": [
    {
     "data": {
      "text/plain": [
       "['Marie Curie, née Sklodowska',\n",
       " 'Comité international de la Croix Rouge (International Committee of the Red Cross)',\n",
       " 'Linus Carl Pauling',\n",
       " 'John Bardeen',\n",
       " 'Frederick Sanger',\n",
       " 'Office of the United Nations High Commissioner for Refugees (UNHCR)']"
      ]
     },
     "execution_count": 78,
     "metadata": {},
     "output_type": "execute_result"
    }
   ],
   "source": [
    "## Remaining: indoviduals and organizations with more than 1 win\n",
    "duplicates = nobel[\"full_name\"].duplicated()\n",
    "duplicated_folks = nobel[duplicates].drop_duplicates('laureate_id')\n",
    "repeat_list = duplicated_folks['full_name'].tolist()\n",
    "repeat_list"
   ]
  }
 ],
 "metadata": {
  "kernelspec": {
   "display_name": "Python 3",
   "language": "python",
   "name": "python3"
  },
  "language_info": {
   "codemirror_mode": {
    "name": "ipython",
    "version": 3
   },
   "file_extension": ".py",
   "mimetype": "text/x-python",
   "name": "python",
   "nbconvert_exporter": "python",
   "pygments_lexer": "ipython3",
   "version": "undefined.undefined.undefined"
  }
 },
 "nbformat": 4,
 "nbformat_minor": 2
}
